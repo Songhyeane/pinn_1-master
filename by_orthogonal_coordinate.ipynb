{
 "cells": [
  {
   "cell_type": "code",
   "execution_count": 33,
   "metadata": {
    "collapsed": true
   },
   "outputs": [
    {
     "name": "stdout",
     "output_type": "stream",
     "text": [
      "Requirement already satisfied: tensorflow-probability in c:\\users\\bsml-desktop-1\\anaconda3\\envs\\pinn_1\\lib\\site-packages (0.19.0)\n",
      "Requirement already satisfied: decorator in c:\\users\\bsml-desktop-1\\anaconda3\\envs\\pinn_1\\lib\\site-packages (from tensorflow-probability) (5.1.1)\n",
      "Requirement already satisfied: absl-py in c:\\users\\bsml-desktop-1\\anaconda3\\envs\\pinn_1\\lib\\site-packages (from tensorflow-probability) (1.3.0)\n",
      "Requirement already satisfied: gast>=0.3.2 in c:\\users\\bsml-desktop-1\\anaconda3\\envs\\pinn_1\\lib\\site-packages (from tensorflow-probability) (0.4.0)\n",
      "Requirement already satisfied: six>=1.10.0 in c:\\users\\bsml-desktop-1\\anaconda3\\envs\\pinn_1\\lib\\site-packages (from tensorflow-probability) (1.16.0)\n",
      "Requirement already satisfied: numpy>=1.13.3 in c:\\users\\bsml-desktop-1\\anaconda3\\envs\\pinn_1\\lib\\site-packages (from tensorflow-probability) (1.23.5)\n",
      "Requirement already satisfied: dm-tree in c:\\users\\bsml-desktop-1\\anaconda3\\envs\\pinn_1\\lib\\site-packages (from tensorflow-probability) (0.1.8)\n",
      "Requirement already satisfied: cloudpickle>=1.3 in c:\\users\\bsml-desktop-1\\anaconda3\\envs\\pinn_1\\lib\\site-packages (from tensorflow-probability) (2.2.1)\n"
     ]
    }
   ],
   "source": [
    "!pip install tensorflow-probability"
   ]
  },
  {
   "cell_type": "code",
   "execution_count": 2,
   "outputs": [],
   "source": [
    "import numpy as np\n",
    "import matplotlib.pyplot as plt\n",
    "import tensorflow as tf\n",
    "import random\n",
    "import math"
   ],
   "metadata": {
    "collapsed": false,
    "ExecuteTime": {
     "end_time": "2023-05-06T23:38:38.099007100Z",
     "start_time": "2023-05-06T23:38:33.789746500Z"
    }
   }
  },
  {
   "cell_type": "code",
   "execution_count": 2,
   "outputs": [],
   "source": [
    "def findVolume(a,b,r,start,end):\n",
    "\n",
    "  def integral_l(y, x):\n",
    "      dx = (x[-1] - x[0]) / (int(x.shape[0]) - 1)\n",
    "      return tf.reduce_sum(y[:-1])*dx\n",
    "\n",
    "  def integral_r(y, x):\n",
    "      dx = (x[-1] - x[0]) / (int(x.shape[0]) - 1)\n",
    "      return tf.reduce_sum(y[1:])*dx\n",
    "\n",
    "  start = tf.constant(0, dtype=tf.float32)\n",
    "  end = tf.constant(2, dtype=tf.float32)\n",
    "\n",
    "  x = tf.linspace(start, end, 10000)\n",
    "  result_l = integral_l(b+tf.math.sqrt(r**2-(x-a)**2), x)\n",
    "  result_r = integral_r(b+tf.math.sqrt(r**2-(x-a)**2), x)\n",
    "\n",
    "  result = (result_l+result_r)/2\n",
    "\n",
    "  return result\n"
   ],
   "metadata": {
    "collapsed": false,
    "ExecuteTime": {
     "end_time": "2023-05-06T21:15:42.569149700Z",
     "start_time": "2023-05-06T21:15:42.522113700Z"
    }
   }
  },
  {
   "cell_type": "code",
   "execution_count": 3,
   "outputs": [
    {
     "name": "stdout",
     "output_type": "stream",
     "text": [
      "[[7.652892]]\n"
     ]
    }
   ],
   "source": [
    "print(findVolume(0,0,4,-4,4).numpy().reshape(1,1))"
   ],
   "metadata": {
    "collapsed": false,
    "ExecuteTime": {
     "end_time": "2023-05-06T21:15:48.461502500Z",
     "start_time": "2023-05-06T21:15:48.190106Z"
    }
   }
  },
  {
   "cell_type": "code",
   "execution_count": 4,
   "outputs": [
    {
     "name": "stdout",
     "output_type": "stream",
     "text": [
      "Model: \"sequential\"\n",
      "_________________________________________________________________\n",
      " Layer (type)                Output Shape              Param #   \n",
      "=================================================================\n",
      " dense (Dense)               (None, 32)                64        \n",
      "                                                                 \n",
      " dense_1 (Dense)             (None, 1)                 33        \n",
      "                                                                 \n",
      "=================================================================\n",
      "Total params: 97\n",
      "Trainable params: 97\n",
      "Non-trainable params: 0\n",
      "_________________________________________________________________\n"
     ]
    }
   ],
   "source": [
    "NN = tf.keras.models.Sequential([\n",
    "    tf.keras.layers.Input((1,)),\n",
    "    tf.keras.layers.Dense(units = 32, activation = 'tanh'),\n",
    "    tf.keras.layers.Dense(units = 1)\n",
    "])\n",
    "\n",
    "NN.summary()"
   ],
   "metadata": {
    "collapsed": false,
    "ExecuteTime": {
     "end_time": "2023-05-06T21:16:07.761250300Z",
     "start_time": "2023-05-06T21:16:07.630098900Z"
    }
   }
  },
  {
   "cell_type": "code",
   "execution_count": 5,
   "outputs": [],
   "source": [
    "optm = tf.keras.optimizers.Adam(learning_rate = 0.001)"
   ],
   "metadata": {
    "collapsed": false,
    "ExecuteTime": {
     "end_time": "2023-05-06T21:16:08.798750500Z",
     "start_time": "2023-05-06T21:16:08.735937200Z"
    }
   }
  },
  {
   "cell_type": "code",
   "execution_count": 6,
   "outputs": [],
   "source": [
    "def ode_system(t, net):\n",
    "    t = t.reshape(-1,1)\n",
    "    t = tf.constant(t, dtype = tf.float32)\n",
    "    t_0 = tf.zeros((1,1))\n",
    "    initial_a=tf.fill([1,1],-0.00009899662236288189 )\n",
    "    vl = tf.fill([1,1],-0.0042040714285714285)\n",
    "    vr = tf.fill([1,1],0.004339750000000001)\n",
    "    d = tf.fill([1,1],0.321/1000)\n",
    "    gap_h = tf.fill([1,1],-0.000091020)\n",
    "\n",
    "    with tf.GradientTape() as tape:\n",
    "        tape.watch(t)\n",
    "\n",
    "        u = net(t)\n",
    "        a = u\n",
    "        xl = tf.fill([1,1],0)\n",
    "        xr = d\n",
    "        yl = vl*t\n",
    "        yr = vr*t  - gap_h\n",
    "        b = (yl+yr)/2-(d/(yr-yl))*(a-d/2)\n",
    "        r = tf.math.sqrt((0-a)**2+(yl-b)**2)\n",
    "        A = findVolume(a,b,r,0,d).numpy().reshape(1,1)-d*b\n",
    "        A_t = tape.gradient(A, t)\n",
    "\n",
    "    ode_loss = A_t\n",
    "    IC_loss = net(t_0) - initial_a\n",
    "\n",
    "    square_loss = tf.square(ode_loss) + tf.square(IC_loss)\n",
    "    total_loss = tf.reduce_mean(square_loss)\n",
    "\n",
    "    return total_loss"
   ],
   "metadata": {
    "collapsed": false,
    "ExecuteTime": {
     "end_time": "2023-05-06T21:16:09.951726100Z",
     "start_time": "2023-05-06T21:16:09.920023900Z"
    }
   }
  },
  {
   "cell_type": "code",
   "execution_count": null,
   "outputs": [
    {
     "name": "stdout",
     "output_type": "stream",
     "text": [
      "2.151204e-08\n"
     ]
    }
   ],
   "source": [
    "train_t = (np.random.rand(10000)).reshape(-1, 1)*0.0282\n",
    "train_loss_record = []\n",
    "\n",
    "for itr in range(6000):\n",
    "    with tf.GradientTape() as tape:\n",
    "        train_loss = ode_system(train_t, NN)\n",
    "        train_loss_record.append(train_loss)\n",
    "\n",
    "        grad_w = tape.gradient(train_loss, NN.trainable_variables)\n",
    "        optm.apply_gradients(zip(grad_w, NN.trainable_variables))\n",
    "\n",
    "    if itr % 1000 == 0:\n",
    "        print(train_loss.numpy())\n",
    "\n",
    "plt.figure(figsize = (10,8))\n",
    "plt.plot(train_loss_record)\n",
    "plt.show()"
   ],
   "metadata": {
    "collapsed": false,
    "is_executing": true,
    "ExecuteTime": {
     "start_time": "2023-05-06T21:16:10.842075900Z"
    }
   }
  },
  {
   "cell_type": "code",
   "execution_count": 63,
   "outputs": [
    {
     "name": "stdout",
     "output_type": "stream",
     "text": [
      "1/1 [==============================] - 0s 187ms/step\n",
      "[0.00241981]\n"
     ]
    }
   ],
   "source": [
    "print(NN.predict((0.0280,)).ravel())"
   ],
   "metadata": {
    "collapsed": false
   }
  },
  {
   "cell_type": "code",
   "execution_count": null,
   "outputs": [],
   "source": [],
   "metadata": {
    "collapsed": false
   }
  },
  {
   "cell_type": "code",
   "execution_count": 9,
   "outputs": [
    {
     "name": "stdout",
     "output_type": "stream",
     "text": [
      "[[0.39446693]\n",
      " [3.54736698]\n",
      " [4.83135874]\n",
      " [2.366196  ]\n",
      " [0.86753247]\n",
      " [3.02531348]\n",
      " [3.51018706]\n",
      " [3.86727549]\n",
      " [3.23200333]\n",
      " [1.51407343]]\n"
     ]
    }
   ],
   "source": [
    "train_t = (np.random.rand(10)).reshape(-1, 1)*5\n",
    "print(train_t)"
   ],
   "metadata": {
    "collapsed": false
   }
  },
  {
   "cell_type": "code",
   "execution_count": null,
   "outputs": [],
   "source": [
    "for test_t in range(0, 5) :\n",
    "    test_t=(test_t/100)*(5)\n",
    "    pred_u = NN.predict((test_t,)).ravel()\n",
    "\n",
    "    vl = -0.5\n",
    "    vr = 0.6\n",
    "    d = 4.\n",
    "    gap_h = 2.\n",
    "\n",
    "    a = pred_u\n",
    "    xl = 0\n",
    "    xr = d\n",
    "    yl = vl*test_t\n",
    "    yr = vr*test_t  - gap_h\n",
    "    b = (yl+yr)/2-(-d/(yr-yl))*(d/2-a)\n",
    "    r = tf.math.sqrt((0-a)**2+(yl-b)**2)\n",
    "\n",
    "    # the equation of a circle : (x-a)^2 + (x-b)^2 = r^2\n",
    "\n",
    "    # x값 범위 설정\n",
    "    x = np.linspace(0, d, 1000)\n",
    "\n",
    "    # 원의 방정식\n",
    "    y1 = np.sqrt(r**2 - (x-a)**2) + b\n",
    "\n",
    "    # 시각화\n",
    "    plt.plot(x, y1, color='blue')\n",
    "    plt.show()"
   ],
   "metadata": {
    "collapsed": false,
    "pycharm": {
     "is_executing": true
    }
   }
  },
  {
   "cell_type": "code",
   "execution_count": 9,
   "outputs": [],
   "source": [
    "test_t = np.linspace(0, 0.0280, 1000)"
   ],
   "metadata": {
    "collapsed": false
   }
  },
  {
   "cell_type": "code",
   "execution_count": 16,
   "outputs": [
    {
     "name": "stdout",
     "output_type": "stream",
     "text": [
      "1/1 [==============================] - 0s 29ms/step\n",
      "[-4.000472]\n"
     ]
    }
   ],
   "source": [],
   "metadata": {
    "collapsed": false
   }
  },
  {
   "cell_type": "code",
   "execution_count": 14,
   "outputs": [],
   "source": [],
   "metadata": {
    "collapsed": false
   }
  },
  {
   "cell_type": "code",
   "execution_count": null,
   "outputs": [],
   "source": [],
   "metadata": {
    "collapsed": false,
    "pycharm": {
     "is_executing": true
    }
   }
  },
  {
   "cell_type": "code",
   "execution_count": 20,
   "outputs": [
    {
     "name": "stdout",
     "output_type": "stream",
     "text": [
      "tf.Tensor([[-4.]], shape=(1, 1), dtype=float32)\n"
     ]
    }
   ],
   "source": [
    "t_0=tf.fill([1,1],-4.)\n",
    "print(t_0)"
   ],
   "metadata": {
    "collapsed": false
   }
  },
  {
   "cell_type": "markdown",
   "source": [],
   "metadata": {
    "collapsed": false
   }
  },
  {
   "cell_type": "code",
   "execution_count": 19,
   "outputs": [
    {
     "name": "stdout",
     "output_type": "stream",
     "text": [
      "tf.Tensor([[0.]], shape=(1, 1), dtype=float32)\n"
     ]
    }
   ],
   "source": [
    "t_0 = tf.zeros((1,1))\n",
    "print(t_0)"
   ],
   "metadata": {
    "collapsed": false
   }
  },
  {
   "cell_type": "code",
   "execution_count": 21,
   "outputs": [
    {
     "name": "stdout",
     "output_type": "stream",
     "text": [
      "-0.000117714\n"
     ]
    }
   ],
   "source": [
    "t = -1.1771358e-004\n",
    "t = '{:.9f}'.format(t)\n",
    "print(t)\n",
    "# 0.000030000"
   ],
   "metadata": {
    "collapsed": false
   }
  },
  {
   "cell_type": "code",
   "execution_count": 67,
   "outputs": [
    {
     "name": "stdout",
     "output_type": "stream",
     "text": [
      "0.000030493\n"
     ]
    }
   ],
   "source": [
    "t =  3.0493201e-005\n",
    "type(t)\n",
    "t = '{:.9f}'.format(t)\n",
    "print(t)\n",
    "# 0.000030000"
   ],
   "metadata": {
    "collapsed": false
   }
  },
  {
   "cell_type": "code",
   "execution_count": 23,
   "outputs": [
    {
     "name": "stdout",
     "output_type": "stream",
     "text": [
      "-0.000091020\n"
     ]
    }
   ],
   "source": [
    "t =  -9.1020329e-005\n",
    "t = '{:.9f}'.format(t)\n",
    "print(t)\n",
    "# 0.000030000"
   ],
   "metadata": {
    "collapsed": false
   }
  },
  {
   "cell_type": "code",
   "execution_count": 24,
   "outputs": [
    {
     "name": "stdout",
     "output_type": "stream",
     "text": [
      "-0.0042040714285714285\n"
     ]
    }
   ],
   "source": [
    "vr =-0.000117714 / 0.0280\n",
    "print(vr)"
   ],
   "metadata": {
    "collapsed": false
   }
  },
  {
   "cell_type": "code",
   "execution_count": 27,
   "outputs": [
    {
     "name": "stdout",
     "output_type": "stream",
     "text": [
      "0.004339750000000001\n"
     ]
    }
   ],
   "source": [
    "vl =(0.000030493+0.000091020 )/ 0.0280\n",
    "print(vl)"
   ],
   "metadata": {
    "collapsed": false
   }
  },
  {
   "cell_type": "code",
   "execution_count": 30,
   "outputs": [
    {
     "name": "stdout",
     "output_type": "stream",
     "text": [
      "1.0874056\n"
     ]
    }
   ],
   "source": [
    "t = 1.0874056e+000\n",
    "thetar10 = '{:.9f}'.format(t)\n",
    "print(t)"
   ],
   "metadata": {
    "collapsed": false
   }
  },
  {
   "cell_type": "code",
   "execution_count": 31,
   "outputs": [
    {
     "name": "stdout",
     "output_type": "stream",
     "text": [
      "1.6406095\n"
     ]
    }
   ],
   "source": [
    "t =   1.6406095e+000\n",
    "thetar10 = '{:.9f}'.format(t)\n",
    "print(t)"
   ],
   "metadata": {
    "collapsed": false
   }
  },
  {
   "cell_type": "code",
   "execution_count": null,
   "outputs": [],
   "source": [
    "vl = -0.0042040714285714285\n",
    "vr = 0.004339750000000001\n",
    "d = 0.321/1000\n",
    "gap_h = -0.000091020\n",
    "b = (yl+yr)/2-(-d/(yr-yl))*(d/2-a)\n",
    "r = tf.math.sqrt((0-a)**2+(yl-b)**2)\n",
    "print(b)\n",
    "print(r)"
   ],
   "metadata": {
    "collapsed": false
   }
  },
  {
   "cell_type": "code",
   "execution_count": 43,
   "outputs": [],
   "source": [
    "x1 = 0.\n",
    "x2 = 0.321/1000\n",
    "y1 = 0.0\n",
    "y2 = -0.000091020\n",
    "t1 = -0.06992681194\n",
    "t2 = -0.5317094317"
   ],
   "metadata": {
    "collapsed": false
   }
  },
  {
   "cell_type": "code",
   "execution_count": 47,
   "outputs": [
    {
     "name": "stdout",
     "output_type": "stream",
     "text": [
      "[ 0.00079994 -0.00079994]\n"
     ]
    }
   ],
   "source": [
    "A = np.array([[1,1],[t1,t2]])\n",
    "B =np.array([x1+t1*y1,x2+t2*y2])\n",
    "C = np.linalg.solve(A,B)\n",
    "print(C)\n"
   ],
   "metadata": {
    "collapsed": false
   }
  },
  {
   "cell_type": "code",
   "execution_count": 6,
   "outputs": [
    {
     "name": "stdout",
     "output_type": "stream",
     "text": [
      "tf.Tensor([[5]], shape=(1, 1), dtype=int32)\n"
     ]
    }
   ],
   "source": [
    "print(tf.fill([1,1],5))"
   ],
   "metadata": {
    "collapsed": false,
    "ExecuteTime": {
     "end_time": "2023-05-06T23:39:57.097939Z",
     "start_time": "2023-05-06T23:39:57.080718100Z"
    }
   }
  },
  {
   "cell_type": "code",
   "execution_count": 5,
   "outputs": [
    {
     "name": "stdout",
     "output_type": "stream",
     "text": [
      "tf.Tensor([[0.]], shape=(1, 1), dtype=float32)\n"
     ]
    }
   ],
   "source": [
    "print(tf.zeros((1,1)))"
   ],
   "metadata": {
    "collapsed": false,
    "ExecuteTime": {
     "end_time": "2023-05-06T23:39:45.137381800Z",
     "start_time": "2023-05-06T23:39:45.128598900Z"
    }
   }
  },
  {
   "cell_type": "code",
   "execution_count": null,
   "outputs": [],
   "source": [
    "tf.math.sq"
   ],
   "metadata": {
    "collapsed": false
   }
  }
 ],
 "metadata": {
  "kernelspec": {
   "display_name": "Python 3",
   "language": "python",
   "name": "python3"
  },
  "language_info": {
   "codemirror_mode": {
    "name": "ipython",
    "version": 2
   },
   "file_extension": ".py",
   "mimetype": "text/x-python",
   "name": "python",
   "nbconvert_exporter": "python",
   "pygments_lexer": "ipython2",
   "version": "2.7.6"
  }
 },
 "nbformat": 4,
 "nbformat_minor": 0
}
