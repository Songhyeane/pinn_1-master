{
 "cells": [
  {
   "cell_type": "code",
   "execution_count": null,
   "metadata": {
    "collapsed": true
   },
   "outputs": [],
   "source": []
  },
  {
   "cell_type": "code",
   "execution_count": 6,
   "outputs": [],
   "source": [
    "import numpy as np\n",
    "import matplotlib.pyplot as plt\n",
    "import tensorflow as tf\n",
    "import random"
   ],
   "metadata": {
    "collapsed": false,
    "ExecuteTime": {
     "end_time": "2023-05-23T13:19:05.658915500Z",
     "start_time": "2023-05-23T13:19:05.612007800Z"
    }
   }
  },
  {
   "cell_type": "code",
   "execution_count": null,
   "outputs": [],
   "source": [],
   "metadata": {
    "collapsed": false
   }
  },
  {
   "cell_type": "code",
   "execution_count": 7,
   "outputs": [],
   "source": [
    "def cal_area_theta(center_a,center_b,d,theta_l,theta_r,R):\n",
    "\n",
    "    a = center_a\n",
    "    b = center_b\n",
    "    hl = R*np.sin(theta_l)+center_b\n",
    "    hr = R*np.sin(theta_r)+center_b\n",
    "    r = R\n",
    "\n",
    "    theta = theta_l - theta_r\n",
    "\n",
    "    point_1 = (hl * a) / (hl - b)\n",
    "\n",
    "    point_2 = d + (a - d) * hr / (hr - b)\n",
    "\n",
    "    fan_shape = 0.5 * theta * (pow(r,2))\n",
    "\n",
    "    triangle_1 = 0.5 * point_1 * hl\n",
    "\n",
    "    triangle_2 = 0.5 * (d - point_2) * hr\n",
    "\n",
    "    triangle_3 = 0.5 * (point_2 - point_1) * b\n",
    "\n",
    "    area = fan_shape + triangle_1 + triangle_2 + triangle_3\n",
    "\n",
    "    # print(f'theta_1: {math.degrees(theta_1)} theta_2: {math.degrees(theta_2)} theta: {math.degrees(theta)}')\n",
    "\n",
    "    return area"
   ],
   "metadata": {
    "collapsed": false,
    "ExecuteTime": {
     "end_time": "2023-05-23T13:19:07.863256Z",
     "start_time": "2023-05-23T13:19:07.831994100Z"
    }
   }
  },
  {
   "cell_type": "code",
   "execution_count": 8,
   "outputs": [],
   "source": [
    "# Import TensorFlow and NumPy\n",
    "import tensorflow as tf\n",
    "import numpy as np\n",
    "\n",
    "# Set data type\n",
    "DTYPE='float32'\n",
    "tf.keras.backend.set_floatx(DTYPE)\n",
    "\n",
    "# Define contact line velocity\n",
    "# theta_0 : equilibrium contact angle\n",
    "# theta_d : dynamic contact angle\n",
    "def fun_contact_line_velocity( f_c,i_t,theta_0, theta_d ):\n",
    "    return (1/f_c)*i_t*(tf.cos(theta_0)-tf.cos(theta_d))\n",
    "\n",
    "# Set constants\n",
    "pi = tf.constant(np.pi, dtype=DTYPE)\n",
    "p_f_c = tf.constant(-2.02, dtype=DTYPE) # positive_friction_coefficient\n",
    "n_f_c = tf.constant(-5.64, dtype=DTYPE) # nagative_friction_coefficient\n",
    "i_t = tf.constant(7.64, dtype=DTYPE) #interfacial tension between the two liquids\n",
    "d = tf.constant(0.000321, dtype=DTYPE) #gab\n",
    "vl = tf.constant(fun_contact_line_velocity(n_f_c ,i_t,1.6406095000, 0.9745209500), dtype=DTYPE)\n",
    "vr = tf.constant(fun_contact_line_velocity(n_f_c ,i_t,1.0874056000, 1.8590153000), dtype=DTYPE)\n",
    "\n",
    "#initial_data = [a0 ,b0,r0 ,theta_l0,theta_r0 ]\n",
    "initial_data = [-0.0000566758,-0.0006874250504951296,0.000704,1.500983153589793,1.0874056000]\n",
    "\n",
    "# Define residual of the condition\n",
    "def fun_r(yl_t , yr_t ,vl,vr,area_t):\n",
    "    return (yl_t-vl) + (yr_t-vr) + area_t"
   ],
   "metadata": {
    "collapsed": false,
    "ExecuteTime": {
     "end_time": "2023-05-23T13:19:08.593276Z",
     "start_time": "2023-05-23T13:19:08.544857400Z"
    }
   }
  },
  {
   "cell_type": "code",
   "execution_count": 9,
   "outputs": [],
   "source": [
    "# time interval\n",
    "time = [0.0,0.0280]\n",
    "# start_time\n",
    "start_time= tf.constant(time[0], shape=(1,1),dtype=DTYPE)\n",
    "# last_time\n",
    "end_time = tf.constant(time[1], shape=(1,1),dtype=DTYPE)\n",
    "\n",
    "# Set random seed for reproducible results\n",
    "tf.random.set_seed(0)\n",
    "\n",
    "t_data = tf.random.uniform(shape=[1,100],minval=0.0,maxval=0.0280, dtype=DTYPE)\n",
    "t_data = tf.reshape(t_data,shape=(-1,1))\n",
    "\n",
    "#t_data = tf.linspace(0.0,0.0280,100)\n",
    "#t_data = tf.reshape(t_data,shape=(-1,1))\n",
    "\n",
    "t_data = tf.concat([start_time,t_data],axis=0)\n",
    "t_data = tf.concat([t_data,end_time],axis=0)\n",
    "t_data = tf.constant(t_data,dtype=DTYPE)"
   ],
   "metadata": {
    "collapsed": false,
    "ExecuteTime": {
     "end_time": "2023-05-23T13:19:09.162201400Z",
     "start_time": "2023-05-23T13:19:09.130939400Z"
    }
   }
  },
  {
   "cell_type": "code",
   "execution_count": 10,
   "outputs": [
    {
     "name": "stdout",
     "output_type": "stream",
     "text": [
      "Model: \"sequential_1\"\n",
      "_________________________________________________________________\n",
      " Layer (type)                Output Shape              Param #   \n",
      "=================================================================\n",
      " dense_5 (Dense)             (None, 32)                64        \n",
      "                                                                 \n",
      " dense_6 (Dense)             (None, 32)                1056      \n",
      "                                                                 \n",
      " dense_7 (Dense)             (None, 32)                1056      \n",
      "                                                                 \n",
      " dense_8 (Dense)             (None, 32)                1056      \n",
      "                                                                 \n",
      " dense_9 (Dense)             (None, 5)                 165       \n",
      "                                                                 \n",
      "=================================================================\n",
      "Total params: 3,397\n",
      "Trainable params: 3,397\n",
      "Non-trainable params: 0\n",
      "_________________________________________________________________\n"
     ]
    }
   ],
   "source": [
    "NN = tf.keras.models.Sequential([\n",
    "    tf.keras.layers.Input((1,)),\n",
    "    tf.keras.layers.Dense(units = 32, activation = 'tanh',kernel_initializer='glorot_normal'),\n",
    "    tf.keras.layers.Dense(units = 32, activation = 'tanh',kernel_initializer='glorot_normal'),\n",
    "    tf.keras.layers.Dense(units = 32, activation = 'tanh',kernel_initializer='glorot_normal'),\n",
    "    tf.keras.layers.Dense(units = 32, activation = 'tanh',kernel_initializer='glorot_normal'),\n",
    "    tf.keras.layers.Dense(units = 5)\n",
    "])\n",
    "\n",
    "NN.summary()"
   ],
   "metadata": {
    "collapsed": false,
    "ExecuteTime": {
     "end_time": "2023-05-23T13:19:09.869396600Z",
     "start_time": "2023-05-23T13:19:09.768409700Z"
    }
   }
  },
  {
   "cell_type": "markdown",
   "source": [
    "optm = tf.keras.optimizers.Adam(learning_rate = 0.001)"
   ],
   "metadata": {
    "collapsed": false
   }
  },
  {
   "cell_type": "code",
   "execution_count": 11,
   "outputs": [],
   "source": [
    "optm = tf.keras.optimizers.Adam(learning_rate = 0.001)"
   ],
   "metadata": {
    "collapsed": false,
    "ExecuteTime": {
     "end_time": "2023-05-23T13:19:11.934411500Z",
     "start_time": "2023-05-23T13:19:11.903044600Z"
    }
   }
  },
  {
   "cell_type": "code",
   "execution_count": 14,
   "outputs": [],
   "source": [
    "def ode_system(t_data,vl,vr ,net):\n",
    "    # t = t.reshape(-1,1)\n",
    "    # t = tf.constant(t, dtype = tf.float32)\n",
    "    # t_0 = tf.zeros((1,1))\n",
    "    # one = tf.ones((1,1))\n",
    "    #\n",
    "    # with tf.GradientTape() as tape:\n",
    "    #     tape.watch(t)\n",
    "    #\n",
    "    #     u = net(t)\n",
    "    #     u_t = tape.gradient(u, t)\n",
    "    #\n",
    "    # ode_loss = u_t - tf.math.cos(2*np.pi*t)\n",
    "    # IC_loss = net(t_0) - one\n",
    "\n",
    "    t_0 = tf.zeros((1,1))\n",
    "\n",
    "    # A tf.GradientTape is used to compute derivatives in TensorFlow\n",
    "    with tf.GradientTape(persistent=True) as tape:\n",
    "        # Split t and x to compute partial derivatives\n",
    "        t = t_data\n",
    "\n",
    "        # Variables t and x are watched during tape\n",
    "        tape.watch(t)\n",
    "\n",
    "        # Determine residual\n",
    "        u = net(t_data)\n",
    "        a = tf.reshape(u[:,0],shape=(-1,1))\n",
    "        b = tf.reshape(u[:,1],shape=(-1,1))\n",
    "        R = tf.reshape(u[:,2],shape=(-1,1))\n",
    "        theta_l =tf.reshape(u[:,3],shape=(-1,1))\n",
    "        theta_r = tf.reshape(u[:,4],shape=(-1,1))\n",
    "\n",
    "        yl = R*np.sin(theta_l)+b\n",
    "        yr = R*np.sin(theta_r)+b\n",
    "        area = cal_area_theta(a,b,d,theta_l,theta_r,R)\n",
    "\n",
    "        yl_t = tape.gradient(yl, t)\n",
    "        yr_t = tape.gradient(yr, t)\n",
    "        area_t = tape.gradient(area, t)\n",
    "\n",
    "    ode_loss = tf.reduce_mean(tf.square((yl_t-vl+yr_t-vr+vr+area_t)))\n",
    "\n",
    "    pred_a = tf.reshape(u[:,0],shape=(-1,1))\n",
    "    pred_b = tf.reshape(u[:,1],shape=(-1,1))\n",
    "    pred_R = tf.reshape(u[:,2],shape=(-1,1))\n",
    "    pred_theta_l =tf.reshape(u[:,3],shape=(-1,1))\n",
    "    pred_theta_r = tf.reshape(u[:,4],shape=(-1,1))\n",
    "\n",
    "    IC_loss = tf.reduce_mean(tf.square(initial_data[0] - pred_a))\n",
    "    IC_loss += tf.reduce_mean(tf.square(initial_data[1] - pred_b))\n",
    "    IC_loss += tf.reduce_mean(tf.square(initial_data[2] - pred_R))\n",
    "    IC_loss += tf.reduce_mean(tf.square(initial_data[3] - pred_theta_l))\n",
    "    IC_loss += tf.reduce_mean(tf.square(initial_data[4] - pred_theta_r))\n",
    "\n",
    "    total_loss = ode_loss+IC_loss\n",
    "\n",
    "    del tape\n",
    "\n",
    "    return total_loss"
   ],
   "metadata": {
    "collapsed": false,
    "ExecuteTime": {
     "end_time": "2023-05-23T13:20:59.597603200Z",
     "start_time": "2023-05-23T13:20:59.549914500Z"
    }
   }
  },
  {
   "cell_type": "code",
   "execution_count": 15,
   "outputs": [
    {
     "name": "stdout",
     "output_type": "stream",
     "text": [
      "WARNING:tensorflow:Calling GradientTape.gradient on a persistent tape inside its context is significantly less efficient than calling it outside the context (it causes the gradient ops to be recorded on the tape, leading to increased CPU and memory usage). Only call GradientTape.gradient inside the context if you actually want to trace the gradient in order to compute higher order derivatives.\n",
      "WARNING:tensorflow:Calling GradientTape.gradient on a persistent tape inside its context is significantly less efficient than calling it outside the context (it causes the gradient ops to be recorded on the tape, leading to increased CPU and memory usage). Only call GradientTape.gradient inside the context if you actually want to trace the gradient in order to compute higher order derivatives.\n",
      "WARNING:tensorflow:Calling GradientTape.gradient on a persistent tape inside its context is significantly less efficient than calling it outside the context (it causes the gradient ops to be recorded on the tape, leading to increased CPU and memory usage). Only call GradientTape.gradient inside the context if you actually want to trace the gradient in order to compute higher order derivatives.\n",
      "nan\n",
      "nan\n",
      "nan\n",
      "nan\n",
      "nan\n",
      "nan\n"
     ]
    },
    {
     "data": {
      "text/plain": "<Figure size 1000x800 with 1 Axes>",
      "image/png": "[encoded data removed]"
     },
     "metadata": {},
     "output_type": "display_data"
    }
   ],
   "source": [
    "train_loss_record = []\n",
    "\n",
    "for itr in range(6000):\n",
    "    with tf.GradientTape() as tape:\n",
    "        train_loss = ode_system(t_data,vl,vr ,NN)\n",
    "        train_loss_record.append(train_loss)\n",
    "\n",
    "        grad_w = tape.gradient(train_loss, NN.trainable_variables)\n",
    "        optm.apply_gradients(zip(grad_w, NN.trainable_variables))\n",
    "\n",
    "    if itr % 1000 == 0:\n",
    "        print(train_loss.numpy())\n",
    "\n",
    "plt.figure(figsize = (10,8))\n",
    "plt.plot(train_loss_record)\n",
    "plt.show()"
   ],
   "metadata": {
    "collapsed": false,
    "ExecuteTime": {
     "end_time": "2023-05-23T13:26:48.172387700Z",
     "start_time": "2023-05-23T13:21:01.612675400Z"
    }
   }
  },
  {
   "cell_type": "code",
   "execution_count": 13,
   "outputs": [
    {
     "name": "stdout",
     "output_type": "stream",
     "text": [
      "[0.         0.02020202 0.04040404 0.06060606 0.08080808 0.1010101\n",
      " 0.12121212 0.14141414 0.16161616 0.18181818 0.2020202  0.22222222\n",
      " 0.24242424 0.26262626 0.28282828 0.3030303  0.32323232 0.34343434\n",
      " 0.36363636 0.38383838 0.4040404  0.42424242 0.44444444 0.46464646\n",
      " 0.48484848 0.50505051 0.52525253 0.54545455 0.56565657 0.58585859\n",
      " 0.60606061 0.62626263 0.64646465 0.66666667 0.68686869 0.70707071\n",
      " 0.72727273 0.74747475 0.76767677 0.78787879 0.80808081 0.82828283\n",
      " 0.84848485 0.86868687 0.88888889 0.90909091 0.92929293 0.94949495\n",
      " 0.96969697 0.98989899 1.01010101 1.03030303 1.05050505 1.07070707\n",
      " 1.09090909 1.11111111 1.13131313 1.15151515 1.17171717 1.19191919\n",
      " 1.21212121 1.23232323 1.25252525 1.27272727 1.29292929 1.31313131\n",
      " 1.33333333 1.35353535 1.37373737 1.39393939 1.41414141 1.43434343\n",
      " 1.45454545 1.47474747 1.49494949 1.51515152 1.53535354 1.55555556\n",
      " 1.57575758 1.5959596  1.61616162 1.63636364 1.65656566 1.67676768\n",
      " 1.6969697  1.71717172 1.73737374 1.75757576 1.77777778 1.7979798\n",
      " 1.81818182 1.83838384 1.85858586 1.87878788 1.8989899  1.91919192\n",
      " 1.93939394 1.95959596 1.97979798 2.        ]\n",
      "4/4 [==============================] - 0s 1ms/step\n",
      "[0.99975246 1.0252043  1.0489659  1.0709163  1.0909375  1.1089205\n",
      " 1.1247631  1.1383752  1.1496793  1.1586136  1.1651347  1.169216\n",
      " 1.1708535  1.1700653  1.1668924  1.1613998  1.1536775  1.1438407\n",
      " 1.1320297  1.1184088  1.1031672  1.086516   1.0686879  1.0499352\n",
      " 1.0305284  1.0107508  0.9908983  0.97127503 0.95218873 0.9339458\n",
      " 0.9168491  0.90118945 0.88724285 0.8752633  0.8654781  0.8580802\n",
      " 0.85322595 0.8510279  0.85155016 0.85480577 0.86075425 0.86929905\n",
      " 0.8802892  0.8935185  0.90873134 0.9256232  0.94385386 0.963047\n",
      " 0.9828049  1.0027163  1.0223674  1.0413533  1.0592877  1.0758125\n",
      " 1.0906091  1.1034027  1.1139679  1.1221335  1.1277851  1.1308597\n",
      " 1.1313506  1.1292992  1.1247925  1.1179575  1.1089555  1.0979768\n",
      " 1.0852324  1.0709538  1.0553787  1.0387549  1.0213321  1.0033569\n",
      " 0.98507077 0.9667099  0.9484977  0.9306478  0.9133598  0.8968212\n",
      " 0.881203   0.8666641  0.85334736 0.8413816  0.83088106 0.8219476\n",
      " 0.81466883 0.8091211  0.80536705 0.8034609  0.80344445 0.8053497\n",
      " 0.8092015  0.8150152  0.8227992  0.83255243 0.84427166 0.85794616\n",
      " 0.8735585  0.8910876  0.9105101  0.9317965 ]\n"
     ]
    }
   ],
   "source": [
    "test_t = np.linspace(0, 2, 100)\n",
    "\n",
    "train_u = np.sin(2*np.pi*train_t)/(2*np.pi) + 1\n",
    "true_u = np.sin(2*np.pi*test_t)/(2*np.pi) + 1\n",
    "print(test_t)\n",
    "pred_u = NN.predict(test_t).ravel()\n",
    "print(pred_u)\n",
    "\n",
    "#plt.figure(figsize = (10,8))\n",
    "#plt.plot(train_t, train_u, 'ok', label = 'Train')\n",
    "#plt.plot(test_t, true_u, '-k',label = 'True')\n",
    "#plt.plot(test_t, pred_u, '--r', label = 'Prediction')\n",
    "#plt.legend(fontsize = 15)\n",
    "#plt.xlabel('t', fontsize = 15)\n",
    "#plt.ylabel('u', fontsize = 15)\n",
    "#plt.show()"
   ],
   "metadata": {
    "collapsed": false
   }
  },
  {
   "cell_type": "code",
   "execution_count": 8,
   "outputs": [
    {
     "name": "stdout",
     "output_type": "stream",
     "text": [
      "tf.Tensor([[0.]], shape=(1, 1), dtype=float32)\n"
     ]
    }
   ],
   "source": [
    "t_0 = tf.zeros((1,1))\n",
    "print(t_0)"
   ],
   "metadata": {
    "collapsed": false
   }
  },
  {
   "cell_type": "code",
   "execution_count": 10,
   "outputs": [
    {
     "name": "stdout",
     "output_type": "stream",
     "text": [
      "[0.         0.02020202 0.04040404 0.06060606 0.08080808 0.1010101\n",
      " 0.12121212 0.14141414 0.16161616 0.18181818 0.2020202  0.22222222\n",
      " 0.24242424 0.26262626 0.28282828 0.3030303  0.32323232 0.34343434\n",
      " 0.36363636 0.38383838 0.4040404  0.42424242 0.44444444 0.46464646\n",
      " 0.48484848 0.50505051 0.52525253 0.54545455 0.56565657 0.58585859\n",
      " 0.60606061 0.62626263 0.64646465 0.66666667 0.68686869 0.70707071\n",
      " 0.72727273 0.74747475 0.76767677 0.78787879 0.80808081 0.82828283\n",
      " 0.84848485 0.86868687 0.88888889 0.90909091 0.92929293 0.94949495\n",
      " 0.96969697 0.98989899 1.01010101 1.03030303 1.05050505 1.07070707\n",
      " 1.09090909 1.11111111 1.13131313 1.15151515 1.17171717 1.19191919\n",
      " 1.21212121 1.23232323 1.25252525 1.27272727 1.29292929 1.31313131\n",
      " 1.33333333 1.35353535 1.37373737 1.39393939 1.41414141 1.43434343\n",
      " 1.45454545 1.47474747 1.49494949 1.51515152 1.53535354 1.55555556\n",
      " 1.57575758 1.5959596  1.61616162 1.63636364 1.65656566 1.67676768\n",
      " 1.6969697  1.71717172 1.73737374 1.75757576 1.77777778 1.7979798\n",
      " 1.81818182 1.83838384 1.85858586 1.87878788 1.8989899  1.91919192\n",
      " 1.93939394 1.95959596 1.97979798 2.        ]\n"
     ]
    }
   ],
   "source": [
    "print(test_t)"
   ],
   "metadata": {
    "collapsed": false
   }
  },
  {
   "cell_type": "code",
   "execution_count": 3,
   "outputs": [
    {
     "data": {
      "text/plain": "-0.00011813440714285714"
     },
     "execution_count": 3,
     "metadata": {},
     "output_type": "execute_result"
    }
   ],
   "source": [
    "-0.0042040714285714285*0.0281"
   ],
   "metadata": {
    "collapsed": false,
    "ExecuteTime": {
     "end_time": "2023-05-06T20:58:35.672830800Z",
     "start_time": "2023-05-06T20:58:35.640945400Z"
    }
   }
  },
  {
   "cell_type": "code",
   "execution_count": 4,
   "outputs": [
    {
     "data": {
      "text/plain": "3.0926975000000016e-05"
     },
     "execution_count": 4,
     "metadata": {},
     "output_type": "execute_result"
    }
   ],
   "source": [
    "0.004339750000000001*0.0281-0.000091020"
   ],
   "metadata": {
    "collapsed": false,
    "ExecuteTime": {
     "end_time": "2023-05-06T20:59:26.113946500Z",
     "start_time": "2023-05-06T20:59:26.113946500Z"
    }
   }
  },
  {
   "cell_type": "code",
   "execution_count": 8,
   "outputs": [
    {
     "name": "stdout",
     "output_type": "stream",
     "text": [
      "-0.0042274893617021275\n"
     ]
    }
   ],
   "source": [
    "vl = -0.0001192152 / 0.0282\n",
    "print(vl)"
   ],
   "metadata": {
    "collapsed": false,
    "ExecuteTime": {
     "end_time": "2023-05-06T21:03:57.805603600Z",
     "start_time": "2023-05-06T21:03:57.781772500Z"
    }
   }
  },
  {
   "cell_type": "code",
   "execution_count": 10,
   "outputs": [
    {
     "name": "stdout",
     "output_type": "stream",
     "text": [
      "0.004377418439716312\n"
     ]
    }
   ],
   "source": [
    "vr = (0.0000324229+0.0000910203) / 0.0282\n",
    "print(vr)"
   ],
   "metadata": {
    "collapsed": false,
    "ExecuteTime": {
     "end_time": "2023-05-06T21:04:26.187591600Z",
     "start_time": "2023-05-06T21:04:26.155869400Z"
    }
   }
  },
  {
   "cell_type": "code",
   "execution_count": 1,
   "outputs": [
    {
     "name": "stderr",
     "output_type": "stream",
     "text": [
      "C:\\Users\\SongChihun\\AppData\\Local\\Temp\\ipykernel_24384\\469857012.py:17: RuntimeWarning: invalid value encountered in sqrt\n",
      "  y = yc + np.sqrt(r**2 - (x - xc)**2)\n"
     ]
    },
    {
     "data": {
      "text/plain": "<Figure size 640x480 with 1 Axes>",
      "image/png": "[encoded data removed]"
     },
     "metadata": {},
     "output_type": "display_data"
    }
   ],
   "source": [
    "import numpy as np\n",
    "import matplotlib.pyplot as plt\n",
    "a1 = 0.0\n",
    "a2 = 0.321/1000\n",
    "b1 = 0.0\n",
    "b2 = -0.0000910203\n",
    "xc = -0.00009899662236288189\n",
    "yc = -0.00020933714516341\n",
    "# Define the x-range of the plot\n",
    "xmin, xmax = a1, a2\n",
    "x = np.linspace(xmin, xmax, 1000)\n",
    "\n",
    "# Calculate the radius of the circle\n",
    "r = np.sqrt((xc - a1)**2 + (yc - b1)**2)\n",
    "\n",
    "# Calculate the y-values of the circle\n",
    "y = yc + np.sqrt(r**2 - (x - xc)**2)\n",
    "\n",
    "# Plot the circle\n",
    "plt.plot(x, y, 'b-', label='Circle')\n",
    "\n",
    "# Plot the two points above the circle\n",
    "plt.plot(a1, b1, 'ro', label='Point 1')\n",
    "plt.plot(a2, b2, 'ro', label='Point 2')\n",
    "\n",
    "# Add axis labels and a legend\n",
    "plt.xlabel('x')\n",
    "plt.ylabel('y')\n",
    "plt.legend()\n",
    "\n",
    "# Set the x-limits and y-limits of the plot\n",
    "plt.xlim(xmin, xmax)\n",
    "plt.ylim(yc - r, np.max([b1, b2]) + r)\n",
    "\n",
    "# Show the plot\n",
    "plt.show()"
   ],
   "metadata": {
    "collapsed": false,
    "ExecuteTime": {
     "end_time": "2023-05-07T00:00:01.562689800Z",
     "start_time": "2023-05-07T00:00:00.869024200Z"
    }
   }
  },
  {
   "cell_type": "code",
   "execution_count": null,
   "outputs": [],
   "source": [],
   "metadata": {
    "collapsed": false
   }
  }
 ],
 "metadata": {
  "kernelspec": {
   "display_name": "Python 3",
   "language": "python",
   "name": "python3"
  },
  "language_info": {
   "codemirror_mode": {
    "name": "ipython",
    "version": 2
   },
   "file_extension": ".py",
   "mimetype": "text/x-python",
   "name": "python",
   "nbconvert_exporter": "python",
   "pygments_lexer": "ipython2",
   "version": "2.7.6"
  }
 },
 "nbformat": 4,
 "nbformat_minor": 0
}
