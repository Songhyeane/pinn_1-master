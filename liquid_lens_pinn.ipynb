{
 "cells": [
  {
   "cell_type": "code",
   "execution_count": 1,
   "metadata": {
    "collapsed": true,
    "ExecuteTime": {
     "end_time": "2023-05-24T15:43:15.783604800Z",
     "start_time": "2023-05-24T15:43:10.296414100Z"
    }
   },
   "outputs": [],
   "source": [
    "import tensorflow as tf\n",
    "import numpy as np\n",
    "import matplotlib.pyplot as plt\n",
    "import scipy as sp"
   ]
  },
  {
   "cell_type": "code",
   "execution_count": 2,
   "outputs": [],
   "source": [
    "def cal_area_quad(center_a,center_b,d,theta_l,theta_r,R):\n",
    "    a,b = center_a,center_b\n",
    "    hl = R*tf.sin(theta_l)+center_b\n",
    "    hr = R*tf.sin(theta_r)+center_b\n",
    "    r = np.sqrt(pow((0.0 - a),2) + pow((hl - b),2))\n",
    "\n",
    "    def f(x):\n",
    "        return np.sqrt(pow(r,2)-pow(x-a,2))+b\n",
    "\n",
    "    area = sp.integrate.quad(f, 0, d)\n",
    "\n",
    "    # (x-a)^2 + (y-b)^2 = r^2\n",
    "\n",
    "    return area"
   ],
   "metadata": {
    "collapsed": false,
    "ExecuteTime": {
     "end_time": "2023-05-24T15:43:17.599569200Z",
     "start_time": "2023-05-24T15:43:17.559476400Z"
    }
   }
  },
  {
   "cell_type": "code",
   "execution_count": 18,
   "outputs": [],
   "source": [
    "def cal_area_theta(center_a,center_b,d,theta_l,theta_r,R):\n",
    "\n",
    "    a = center_a\n",
    "    b = center_b\n",
    "    hl = R*tf.sin(theta_l)+center_b\n",
    "    hr = R*tf.sin(theta_r)+center_b\n",
    "    r = R\n",
    "    theta = theta_l - theta_r\n",
    "    point_1 = (hl * a) / (hl - b)\n",
    "    point_2 = d + (a - d) * hr / (hr - b)\n",
    "    fan_shape = 0.5 * theta * (pow(r,2))\n",
    "    triangle_1 = 0.5 * (0-point_1) * hl\n",
    "    triangle_2 = 0.5 * (d - point_2) * hr\n",
    "    triangle_3 = 0.5 * (point_2 - point_1) * b\n",
    "    area = fan_shape - triangle_1 + triangle_2 - triangle_3\n",
    "    # print(f'theta_1: {math.degrees(theta_1)} theta_2: {math.degrees(theta_2)} theta: {math.degrees(theta)}')\n",
    "\n",
    "    return area"
   ],
   "metadata": {
    "collapsed": false,
    "ExecuteTime": {
     "end_time": "2023-05-24T07:34:23.444862400Z",
     "start_time": "2023-05-24T07:34:23.380980200Z"
    }
   }
  },
  {
   "cell_type": "code",
   "execution_count": 2,
   "outputs": [
    {
     "ename": "NameError",
     "evalue": "name 'cal_area_theta' is not defined",
     "output_type": "error",
     "traceback": [
      "\u001B[1;31m---------------------------------------------------------------------------\u001B[0m",
      "\u001B[1;31mNameError\u001B[0m                                 Traceback (most recent call last)",
      "Cell \u001B[1;32mIn[2], line 33\u001B[0m\n\u001B[0;32m     30\u001B[0m \u001B[38;5;66;03m# initial_data = [a0 ,b0,r0 ,theta_l0,theta_r0 ]\u001B[39;00m\n\u001B[0;32m     31\u001B[0m \u001B[38;5;66;03m# cal_area_theta(center_a,center_b,d,theta_l,theta_r,R):\u001B[39;00m\n\u001B[0;32m     32\u001B[0m initial_data \u001B[38;5;241m=\u001B[39m [\u001B[38;5;241m-\u001B[39m\u001B[38;5;241m0.0000566758\u001B[39m,\u001B[38;5;241m-\u001B[39m\u001B[38;5;241m0.0006874250504951296\u001B[39m,\u001B[38;5;241m.0009033011295732994\u001B[39m,\u001B[38;5;241m1.500983153589793\u001B[39m,\u001B[38;5;241m1.0874056000\u001B[39m]\n\u001B[1;32m---> 33\u001B[0m initial_area \u001B[38;5;241m=\u001B[39m \u001B[43mcal_area_theta\u001B[49m(\u001B[38;5;241m-\u001B[39m\u001B[38;5;241m0.0000566758\u001B[39m,\u001B[38;5;241m-\u001B[39m\u001B[38;5;241m0.0006874250504951296\u001B[39m,\u001B[38;5;241m0.000321\u001B[39m,\u001B[38;5;241m1.500983153589793\u001B[39m,\u001B[38;5;241m1.0874056000\u001B[39m,\u001B[38;5;241m0.0009033011295732994\u001B[39m)\n\u001B[0;32m     35\u001B[0m \u001B[38;5;66;03m# Define residual of the condition\u001B[39;00m\n\u001B[0;32m     36\u001B[0m \u001B[38;5;28;01mdef\u001B[39;00m \u001B[38;5;21mfun_r\u001B[39m(yl_t , yr_t ,vl,vr,area_t):\n",
      "\u001B[1;31mNameError\u001B[0m: name 'cal_area_theta' is not defined"
     ]
    }
   ],
   "source": [
    "import tensorflow as tf\n",
    "import numpy as np\n",
    "\n",
    "# Set data type\n",
    "DTYPE='float64'\n",
    "tf.keras.backend.set_floatx(DTYPE)\n",
    "\n",
    "# Define contact line velocity\n",
    "# theta_0 : equilibrium contact angle\n",
    "# theta_d : dynamic contact angle\n",
    "def fun_contact_line_velocity( f_c,i_t,theta_0, theta_d ):\n",
    "    one = tf.constant(1, dtype=tf.float64)\n",
    "    return -f_c*i_t*(-tf.cos(theta_0)+tf.cos(theta_d))\n",
    "\n",
    "# Set constants\n",
    "pi = tf.constant(np.pi, dtype=tf.float64)\n",
    "p_f_c = tf.constant(-2.02, dtype=tf.float64) # positive_friction_coefficient\n",
    "n_f_c = tf.constant(-5.64, dtype=tf.float64) # nagative_friction_coefficient\n",
    "i_t = tf.constant(7.6408/1000, dtype=tf.float64) #interfacial tension between the two liquids\n",
    "d = tf.constant(0.321/1000, dtype=tf.float64) #gab\n",
    "\n",
    "thetal_0 = tf.constant(np.deg2rad(94), dtype=tf.float64)\n",
    "thetal_d = tf.constant(np.deg2rad(55), dtype=tf.float64)\n",
    "thetar_0 = tf.constant(np.deg2rad(59), dtype=tf.float64)\n",
    "thetar_d = tf.constant(np.deg2rad(109), dtype=tf.float64)\n",
    "\n",
    "vl = tf.constant(fun_contact_line_velocity(n_f_c ,i_t,thetal_0, thetal_d ), dtype=tf.float64)\n",
    "vr = tf.constant(fun_contact_line_velocity(p_f_c ,i_t,thetar_0 , thetar_d ), dtype=tf.float64)\n",
    "\n",
    "# initial_data = [a0 ,b0,r0 ,theta_l0,theta_r0 ]\n",
    "# cal_area_theta(center_a,center_b,d,theta_l,theta_r,R):\n",
    "initial_data = [-0.0000566758,-0.0006874250504951296,.0009033011295732994,1.500983153589793,1.0874056000]\n",
    "initial_area = cal_area_theta(-0.0000566758,-0.0006874250504951296,0.000321,1.500983153589793,1.0874056000,0.0009033011295732994)\n",
    "\n",
    "# Define residual of the condition\n",
    "def fun_r(yl_t , yr_t ,vl,vr,area_t):\n",
    "    return (yl_t-vl) + (yr_t-vr) + area_t"
   ],
   "metadata": {
    "collapsed": false,
    "ExecuteTime": {
     "end_time": "2023-05-24T15:43:21.829812600Z",
     "start_time": "2023-05-24T15:43:20.068727Z"
    }
   }
  },
  {
   "cell_type": "code",
   "execution_count": 4,
   "outputs": [
    {
     "name": "stdout",
     "output_type": "stream",
     "text": [
      "tf.Tensor(\n",
      "[[0.00940245]\n",
      " [0.00792753]\n",
      " [0.00933509]\n",
      " ...\n",
      " [0.02178978]\n",
      " [0.00309513]\n",
      " [0.02021461]], shape=(10000, 1), dtype=float64)\n"
     ]
    }
   ],
   "source": [
    "# time interval\n",
    "# times = [0.0,0.0280]\n",
    "# # start_time\n",
    "# start_time= tf.constant(times[0], shape=(1,1),dtype=DTYPE)\n",
    "# # last_time\n",
    "# end_time = tf.constant(times[1], shape=(1,1),dtype=DTYPE)\n",
    "\n",
    "# Set random seed for reproducible results\n",
    "tf.random.set_seed(0)\n",
    "\n",
    "t_data = tf.random.uniform(shape=[1,10000],minval=0.0,maxval=0.0280, dtype=DTYPE)\n",
    "t_data = tf.reshape(t_data,shape=(-1,1))\n",
    "\n",
    "#t_data = tf.linspace(0.0,0.0280,100)\n",
    "#t_data = tf.reshape(t_data,shape=(-1,1))\n",
    "#\n",
    "# t_data =tf.concat([start_time,t_data],axis=0)\n",
    "# t_data = tf.concat([t_data,end_time],axis=0)\n",
    "# t_data = tf.constant(t_data,dtype=DTYPE)\n",
    "print(t_data)"
   ],
   "metadata": {
    "collapsed": false,
    "ExecuteTime": {
     "end_time": "2023-05-24T15:43:22.027286200Z",
     "start_time": "2023-05-24T15:43:21.954269200Z"
    }
   }
  },
  {
   "cell_type": "code",
   "execution_count": 5,
   "outputs": [],
   "source": [
    "# Define model architecture\n",
    "class PINN_NeuralNet(tf.keras.Model):\n",
    "    \"\"\" Set basic architecture of the PINN model.\"\"\"\n",
    "\n",
    "    def __init__(self, t_data,\n",
    "            output_dim=5,\n",
    "            num_hidden_layers=8,\n",
    "            num_neurons_per_layer=20,\n",
    "            activation='tanh',\n",
    "            kernel_initializer='glorot_normal',\n",
    "            **kwargs):\n",
    "        super().__init__(**kwargs)\n",
    "\n",
    "        self.num_hidden_layers = num_hidden_layers\n",
    "        self.output_dim = output_dim\n",
    "        self.t_data = t_data\n",
    "\n",
    "        # Define NN architecture\n",
    "        #self.scale = tf.keras.layers.Lambda(\n",
    "        #    lambda x: 2.0*(x - lb)/(ub - lb) - 1.0)\n",
    "        self.hidden = [tf.keras.layers.Dense(num_neurons_per_layer,\n",
    "                             activation=tf.keras.activations.get(activation),\n",
    "                             kernel_initializer=kernel_initializer)\n",
    "                           for _ in range(self.num_hidden_layers)]\n",
    "        self.out = tf.keras.layers.Dense(output_dim)\n",
    "\n",
    "    def call(self, X):\n",
    "        \"\"\"Forward-pass through neural network.\"\"\"\n",
    "        for i in range(self.num_hidden_layers):\n",
    "            X = self.hidden[i](X)\n",
    "        return self.out(X)"
   ],
   "metadata": {
    "collapsed": false,
    "ExecuteTime": {
     "end_time": "2023-05-24T15:43:25.357654800Z",
     "start_time": "2023-05-24T15:43:25.292458200Z"
    }
   }
  },
  {
   "cell_type": "code",
   "execution_count": 21,
   "outputs": [],
   "source": [],
   "metadata": {
    "collapsed": false,
    "ExecuteTime": {
     "end_time": "2023-05-24T07:34:27.018370800Z",
     "start_time": "2023-05-24T07:34:26.973982700Z"
    }
   }
  },
  {
   "cell_type": "code",
   "execution_count": 6,
   "outputs": [],
   "source": [
    "import scipy.optimize\n",
    "\n",
    "class PINNSolver():\n",
    "    def __init__(self,model,t_data,initial_data):\n",
    "        self.model = model\n",
    "        self.initial_data = initial_data\n",
    "        # Store collocation points\n",
    "        self.t_data = t_data\n",
    "        # Initialize history of losses and global iteration counter\n",
    "        self.hist = []\n",
    "        self.iter = 0\n",
    "\n",
    "    def get_r(self):\n",
    "\n",
    "        # A tf.GradientTape is used to compute derivatives in TensorFlow\n",
    "        with tf.GradientTape(persistent=True) as tape:\n",
    "            # Split t and x to compute partial derivatives\n",
    "            t = self.t_data\n",
    "\n",
    "            # Variables t and x are watched during tape\n",
    "            tape.watch(t)\n",
    "\n",
    "            # Determine residual\n",
    "            u = self.model(t_data)\n",
    "            a = tf.reshape(u[:,0],shape=(-1,1))\n",
    "            b = tf.reshape(u[:,1],shape=(-1,1))\n",
    "            R = tf.reshape(u[:,2],shape=(-1,1))\n",
    "            theta_l =tf.reshape(u[:,3],shape=(-1,1))\n",
    "            theta_r = tf.reshape(u[:,4],shape=(-1,1))\n",
    "\n",
    "            yl = R*tf.sin(theta_l)+b\n",
    "            yr = R*tf.sin(theta_r)+b\n",
    "            area = cal_area_quad(a,b,d,theta_l,theta_r,R)\n",
    "\n",
    "        yl_t = tape.gradient(yl, t)\n",
    "        yr_t = tape.gradient(yr, t)\n",
    "        area_t = tape.gradient(area, t)\n",
    "\n",
    "        del tape\n",
    "\n",
    "        return self.fun_r(yl_t , yr_t ,vl ,vr,area_t)\n",
    "\n",
    "\n",
    "    def loss_fn(self):\n",
    "\n",
    "        t_0 = tf.zeros((1,1))\n",
    "\n",
    "        # Compute phi^r\n",
    "        r = self.get_r()\n",
    "        phi_r = tf.reduce_mean(tf.square(r))\n",
    "\n",
    "        # Initialize loss\n",
    "        loss = phi_r\n",
    "\n",
    "        # Add phi^0 and phi^b to the loss\n",
    "        u = self.model(t_0)\n",
    "        pred_a = tf.reshape(u[:,0],shape=(-1,1))\n",
    "        pred_b = tf.reshape(u[:,1],shape=(-1,1))\n",
    "        pred_R = tf.reshape(u[:,2],shape=(-1,1))\n",
    "        pred_theta_l =tf.reshape(u[:,3],shape=(-1,1))\n",
    "        pred_theta_r = tf.reshape(u[:,4],shape=(-1,1))\n",
    "\n",
    "        loss += tf.reduce_mean(tf.square(self.initial_data[0] - pred_a))\n",
    "        loss += tf.reduce_mean(tf.square(self.initial_data[1] - pred_b))\n",
    "        loss += tf.reduce_mean(tf.square(self.initial_data[2] - pred_R))\n",
    "        loss += tf.reduce_mean(tf.square(self.initial_data[3] - pred_theta_l))\n",
    "        loss += tf.reduce_mean(tf.square(self.initial_data[4] - pred_theta_r))\n",
    "\n",
    "        return loss\n",
    "\n",
    "\n",
    "    def get_grad(self):\n",
    "        with tf.GradientTape(persistent=True) as tape:\n",
    "            # This tape is for derivatives with\n",
    "            # respect to trainable variables\n",
    "            tape.watch(self.model.trainable_variables)\n",
    "            loss = self.loss_fn()\n",
    "\n",
    "        g = tape.gradient(loss, self.model.trainable_variables)\n",
    "        del tape\n",
    "\n",
    "        return loss, g\n",
    "\n",
    "    def fun_r(self,yl_t , yr_t ,vl,vr,area_t):\n",
    "        return (yl_t-vl) + (yr_t-vr) + area_t\n",
    "\n",
    "    def solve_with_TFoptimizer(self, optimizer, N=1001):\n",
    "        \"\"\"This method performs a gradient descent type optimization.\"\"\"\n",
    "\n",
    "        @tf.function\n",
    "        def train_step():\n",
    "            loss, grad_theta = self.get_grad()\n",
    "\n",
    "            # Perform gradient descent step\n",
    "            optimizer.apply_gradients(zip(grad_theta, self.model.trainable_variables))\n",
    "            return loss\n",
    "\n",
    "        for i in range(N):\n",
    "\n",
    "            loss = train_step()\n",
    "\n",
    "            self.current_loss = loss.numpy()\n",
    "            self.callback()\n",
    "\n",
    "    def solve_with_ScipyOptimizer(self, method='L-BFGS-B', **kwargs):\n",
    "        \"\"\"This method provides an interface to solve the learning problem\n",
    "        using a routine from scipy.optimize.minimize.\n",
    "        (Tensorflow 1.xx had an interface implemented, which is not longer\n",
    "        supported in Tensorflow 2.xx.)\n",
    "        Type conversion is necessary since scipy-routines are written in Fortran\n",
    "        which requires 64-bit floats instead of 32-bit floats.\"\"\"\n",
    "\n",
    "        def get_weight_tensor():\n",
    "            \"\"\"Function to return current variables of the model\n",
    "            as 1d tensor as well as corresponding shapes as lists.\"\"\"\n",
    "\n",
    "            weight_list = []\n",
    "            shape_list = []\n",
    "\n",
    "            # Loop over all variables, i.e. weight matrices, bias vectors and unknown parameters\n",
    "            for v in self.model.variables:\n",
    "                shape_list.append(v.shape)\n",
    "                weight_list.extend(v.numpy().flatten())\n",
    "\n",
    "            weight_list = tf.convert_to_tensor(weight_list)\n",
    "            return weight_list, shape_list\n",
    "\n",
    "        x0, shape_list = get_weight_tensor()\n",
    "\n",
    "        def set_weight_tensor(weight_list):\n",
    "            \"\"\"Function which sets list of weights\n",
    "            to variables in the model.\"\"\"\n",
    "            idx = 0\n",
    "            for v in self.model.variables:\n",
    "                vs = v.shape\n",
    "\n",
    "                # Weight matrices\n",
    "                if len(vs) == 2:\n",
    "                    sw = vs[0]*vs[1]\n",
    "                    new_val = tf.reshape(weight_list[idx:idx+sw],(vs[0],vs[1]))\n",
    "                    idx += sw\n",
    "\n",
    "                # Bias vectors\n",
    "                elif len(vs) == 1:\n",
    "                    new_val = weight_list[idx:idx+vs[0]]\n",
    "                    idx += vs[0]\n",
    "\n",
    "                # Variables (in case of parameter identification setting)\n",
    "                elif len(vs) == 0:\n",
    "                    new_val = weight_list[idx]\n",
    "                    idx += 1\n",
    "\n",
    "                # Assign variables (Casting necessary since scipy requires float64 type)\n",
    "                v.assign(tf.cast(new_val, DTYPE))\n",
    "\n",
    "        def get_loss_and_grad(w):\n",
    "            \"\"\"Function that provides current loss and gradient\n",
    "            w.r.t the trainable variables as vector. This is mandatory\n",
    "            for the LBFGS minimizer from scipy.\"\"\"\n",
    "\n",
    "            # Update weights in model\n",
    "            set_weight_tensor(w)\n",
    "            # Determine value of \\phi and gradient w.r.t. \\theta at w\n",
    "            loss, grad = self.get_grad()\n",
    "\n",
    "            # Store current loss for callback function\n",
    "            loss = loss.numpy().astype(np.float64)\n",
    "            self.current_loss = loss\n",
    "\n",
    "            # Flatten gradient\n",
    "            grad_flat = []\n",
    "            for g in grad:\n",
    "                grad_flat.extend(g.numpy().flatten())\n",
    "\n",
    "            # Gradient list to array\n",
    "            grad_flat = np.array(grad_flat,dtype=np.float64)\n",
    "\n",
    "            # Return value and gradient of \\phi as tuple\n",
    "            return loss, grad_flat\n",
    "\n",
    "\n",
    "        return scipy.optimize.minimize(fun=get_loss_and_grad,\n",
    "                                       x0=x0,\n",
    "                                       jac=True,\n",
    "                                       method=method,\n",
    "                                       callback=self.callback,\n",
    "                                       **kwargs)\n",
    "\n",
    "    def callback(self, xr=None):\n",
    "        if self.iter % 50 == 0:\n",
    "            print('It {:05d}: loss = {:10.8e}'.format(self.iter,self.current_loss))\n",
    "        self.hist.append(self.current_loss)\n",
    "        self.iter+=1\n",
    "\n",
    "\n",
    "    # def plot_solution(self, **kwargs):\n",
    "    #     N = 600\n",
    "    #     tspace = np.linspace(self.model.lb[0], self.model.ub[0], N+1)\n",
    "    #     xspace = np.linspace(self.model.lb[1], self.model.ub[1], N+1)\n",
    "    #     T, X = np.meshgrid(tspace, xspace)\n",
    "    #     Xgrid = np.vstack([T.flatten(),X.flatten()]).T\n",
    "    #     upred = self.model(tf.cast(Xgrid,DTYPE))\n",
    "    #     U = upred.numpy().reshape(N+1,N+1)\n",
    "    #     fig = plt.figure(figsize=(9,6))\n",
    "    #     ax = fig.add_subplot(111, projection='3d')\n",
    "    #     ax.plot_surface(T, X, U, cmap='viridis', **kwargs)\n",
    "    #     ax.set_xlabel('$t$')\n",
    "    #     ax.set_ylabel('$x$')\n",
    "    #     ax.set_zlabel('$u_\\\\theta(t,x)$')\n",
    "    #     ax.view_init(35,35)\n",
    "    #     return ax\n",
    "\n",
    "    def plot_loss_history(self, ax=None):\n",
    "        if not ax:\n",
    "            fig = plt.figure(figsize=(7,5))\n",
    "            ax = fig.add_subplot(111)\n",
    "        ax.semilogy(range(len(self.hist)), self.hist,'k-')\n",
    "        ax.set_xlabel('$n_{epoch}$')\n",
    "        ax.set_ylabel('$\\\\phi^{n_{epoch}}$')\n",
    "        return ax"
   ],
   "metadata": {
    "collapsed": false,
    "ExecuteTime": {
     "end_time": "2023-05-24T15:43:27.373171800Z",
     "start_time": "2023-05-24T15:43:26.944576300Z"
    }
   }
  },
  {
   "cell_type": "code",
   "execution_count": 7,
   "outputs": [
    {
     "name": "stderr",
     "output_type": "stream",
     "text": [
      "C:\\Users\\SongChihun\\AppData\\Local\\Temp\\ipykernel_27280\\418744180.py:8: RuntimeWarning: invalid value encountered in sqrt\n",
      "  return np.sqrt(pow(r,2)-pow(x-a,2))+b\n"
     ]
    },
    {
     "ename": "TypeError",
     "evalue": "only size-1 arrays can be converted to Python scalars",
     "output_type": "error",
     "traceback": [
      "\u001B[1;31m---------------------------------------------------------------------------\u001B[0m",
      "\u001B[1;31mTypeError\u001B[0m                                 Traceback (most recent call last)",
      "Cell \u001B[1;32mIn[7], line 24\u001B[0m\n\u001B[0;32m     21\u001B[0m     solver\u001B[38;5;241m.\u001B[39msolve_with_TFoptimizer(optim, t_data, N\u001B[38;5;241m=\u001B[39m\u001B[38;5;241m4001\u001B[39m)\n\u001B[0;32m     23\u001B[0m \u001B[38;5;28;01melif\u001B[39;00m mode \u001B[38;5;241m==\u001B[39m \u001B[38;5;124m'\u001B[39m\u001B[38;5;124mScipyOptimizer\u001B[39m\u001B[38;5;124m'\u001B[39m:\n\u001B[1;32m---> 24\u001B[0m     \u001B[43msolver\u001B[49m\u001B[38;5;241;43m.\u001B[39;49m\u001B[43msolve_with_ScipyOptimizer\u001B[49m\u001B[43m(\u001B[49m\n\u001B[0;32m     25\u001B[0m \u001B[43m                            \u001B[49m\u001B[43mmethod\u001B[49m\u001B[38;5;241;43m=\u001B[39;49m\u001B[38;5;124;43m'\u001B[39;49m\u001B[38;5;124;43mL-BFGS-B\u001B[39;49m\u001B[38;5;124;43m'\u001B[39;49m\u001B[43m,\u001B[49m\n\u001B[0;32m     26\u001B[0m \u001B[43m                            \u001B[49m\u001B[43moptions\u001B[49m\u001B[38;5;241;43m=\u001B[39;49m\u001B[43m{\u001B[49m\u001B[38;5;124;43m'\u001B[39;49m\u001B[38;5;124;43mmaxiter\u001B[39;49m\u001B[38;5;124;43m'\u001B[39;49m\u001B[43m:\u001B[49m\u001B[43m \u001B[49m\u001B[38;5;241;43m50000\u001B[39;49m\u001B[43m,\u001B[49m\n\u001B[0;32m     27\u001B[0m \u001B[43m                                     \u001B[49m\u001B[38;5;124;43m'\u001B[39;49m\u001B[38;5;124;43mmaxfun\u001B[39;49m\u001B[38;5;124;43m'\u001B[39;49m\u001B[43m:\u001B[49m\u001B[43m \u001B[49m\u001B[38;5;241;43m50000\u001B[39;49m\u001B[43m,\u001B[49m\n\u001B[0;32m     28\u001B[0m \u001B[43m                                     \u001B[49m\u001B[38;5;124;43m'\u001B[39;49m\u001B[38;5;124;43mmaxcor\u001B[39;49m\u001B[38;5;124;43m'\u001B[39;49m\u001B[43m:\u001B[49m\u001B[43m \u001B[49m\u001B[38;5;241;43m50\u001B[39;49m\u001B[43m,\u001B[49m\n\u001B[0;32m     29\u001B[0m \u001B[43m                                     \u001B[49m\u001B[38;5;124;43m'\u001B[39;49m\u001B[38;5;124;43mmaxls\u001B[39;49m\u001B[38;5;124;43m'\u001B[39;49m\u001B[43m:\u001B[49m\u001B[43m \u001B[49m\u001B[38;5;241;43m50\u001B[39;49m\u001B[43m,\u001B[49m\n\u001B[0;32m     30\u001B[0m \u001B[43m                                     \u001B[49m\u001B[38;5;124;43m'\u001B[39;49m\u001B[38;5;124;43mftol\u001B[39;49m\u001B[38;5;124;43m'\u001B[39;49m\u001B[43m:\u001B[49m\u001B[43m \u001B[49m\u001B[38;5;241;43m1.0\u001B[39;49m\u001B[38;5;241;43m*\u001B[39;49m\u001B[43mnp\u001B[49m\u001B[38;5;241;43m.\u001B[39;49m\u001B[43mfinfo\u001B[49m\u001B[43m(\u001B[49m\u001B[38;5;28;43mfloat\u001B[39;49m\u001B[43m)\u001B[49m\u001B[38;5;241;43m.\u001B[39;49m\u001B[43meps\u001B[49m\u001B[43m}\u001B[49m\u001B[43m)\u001B[49m\n\u001B[0;32m     32\u001B[0m \u001B[38;5;66;03m# Print computation time\u001B[39;00m\n\u001B[0;32m     33\u001B[0m \u001B[38;5;28mprint\u001B[39m(\u001B[38;5;124m'\u001B[39m\u001B[38;5;130;01m\\n\u001B[39;00m\u001B[38;5;124mComputation time: \u001B[39m\u001B[38;5;132;01m{}\u001B[39;00m\u001B[38;5;124m seconds\u001B[39m\u001B[38;5;124m'\u001B[39m\u001B[38;5;241m.\u001B[39mformat(time()\u001B[38;5;241m-\u001B[39mt0))\n",
      "Cell \u001B[1;32mIn[6], line 182\u001B[0m, in \u001B[0;36mPINNSolver.solve_with_ScipyOptimizer\u001B[1;34m(self, method, **kwargs)\u001B[0m\n\u001B[0;32m    178\u001B[0m     \u001B[38;5;66;03m# Return value and gradient of \\phi as tuple\u001B[39;00m\n\u001B[0;32m    179\u001B[0m     \u001B[38;5;28;01mreturn\u001B[39;00m loss, grad_flat\n\u001B[1;32m--> 182\u001B[0m \u001B[38;5;28;01mreturn\u001B[39;00m \u001B[43mscipy\u001B[49m\u001B[38;5;241;43m.\u001B[39;49m\u001B[43moptimize\u001B[49m\u001B[38;5;241;43m.\u001B[39;49m\u001B[43mminimize\u001B[49m\u001B[43m(\u001B[49m\u001B[43mfun\u001B[49m\u001B[38;5;241;43m=\u001B[39;49m\u001B[43mget_loss_and_grad\u001B[49m\u001B[43m,\u001B[49m\n\u001B[0;32m    183\u001B[0m \u001B[43m                               \u001B[49m\u001B[43mx0\u001B[49m\u001B[38;5;241;43m=\u001B[39;49m\u001B[43mx0\u001B[49m\u001B[43m,\u001B[49m\n\u001B[0;32m    184\u001B[0m \u001B[43m                               \u001B[49m\u001B[43mjac\u001B[49m\u001B[38;5;241;43m=\u001B[39;49m\u001B[38;5;28;43;01mTrue\u001B[39;49;00m\u001B[43m,\u001B[49m\n\u001B[0;32m    185\u001B[0m \u001B[43m                               \u001B[49m\u001B[43mmethod\u001B[49m\u001B[38;5;241;43m=\u001B[39;49m\u001B[43mmethod\u001B[49m\u001B[43m,\u001B[49m\n\u001B[0;32m    186\u001B[0m \u001B[43m                               \u001B[49m\u001B[43mcallback\u001B[49m\u001B[38;5;241;43m=\u001B[39;49m\u001B[38;5;28;43mself\u001B[39;49m\u001B[38;5;241;43m.\u001B[39;49m\u001B[43mcallback\u001B[49m\u001B[43m,\u001B[49m\n\u001B[0;32m    187\u001B[0m \u001B[43m                               \u001B[49m\u001B[38;5;241;43m*\u001B[39;49m\u001B[38;5;241;43m*\u001B[39;49m\u001B[43mkwargs\u001B[49m\u001B[43m)\u001B[49m\n",
      "File \u001B[1;32m~\\anaconda3\\envs\\pinn_1-master\\lib\\site-packages\\scipy\\optimize\\_minimize.py:696\u001B[0m, in \u001B[0;36mminimize\u001B[1;34m(fun, x0, args, method, jac, hess, hessp, bounds, constraints, tol, callback, options)\u001B[0m\n\u001B[0;32m    693\u001B[0m     res \u001B[38;5;241m=\u001B[39m _minimize_newtoncg(fun, x0, args, jac, hess, hessp, callback,\n\u001B[0;32m    694\u001B[0m                              \u001B[38;5;241m*\u001B[39m\u001B[38;5;241m*\u001B[39moptions)\n\u001B[0;32m    695\u001B[0m \u001B[38;5;28;01melif\u001B[39;00m meth \u001B[38;5;241m==\u001B[39m \u001B[38;5;124m'\u001B[39m\u001B[38;5;124ml-bfgs-b\u001B[39m\u001B[38;5;124m'\u001B[39m:\n\u001B[1;32m--> 696\u001B[0m     res \u001B[38;5;241m=\u001B[39m \u001B[43m_minimize_lbfgsb\u001B[49m\u001B[43m(\u001B[49m\u001B[43mfun\u001B[49m\u001B[43m,\u001B[49m\u001B[43m \u001B[49m\u001B[43mx0\u001B[49m\u001B[43m,\u001B[49m\u001B[43m \u001B[49m\u001B[43margs\u001B[49m\u001B[43m,\u001B[49m\u001B[43m \u001B[49m\u001B[43mjac\u001B[49m\u001B[43m,\u001B[49m\u001B[43m \u001B[49m\u001B[43mbounds\u001B[49m\u001B[43m,\u001B[49m\n\u001B[0;32m    697\u001B[0m \u001B[43m                           \u001B[49m\u001B[43mcallback\u001B[49m\u001B[38;5;241;43m=\u001B[39;49m\u001B[43mcallback\u001B[49m\u001B[43m,\u001B[49m\u001B[43m \u001B[49m\u001B[38;5;241;43m*\u001B[39;49m\u001B[38;5;241;43m*\u001B[39;49m\u001B[43moptions\u001B[49m\u001B[43m)\u001B[49m\n\u001B[0;32m    698\u001B[0m \u001B[38;5;28;01melif\u001B[39;00m meth \u001B[38;5;241m==\u001B[39m \u001B[38;5;124m'\u001B[39m\u001B[38;5;124mtnc\u001B[39m\u001B[38;5;124m'\u001B[39m:\n\u001B[0;32m    699\u001B[0m     res \u001B[38;5;241m=\u001B[39m _minimize_tnc(fun, x0, args, jac, bounds, callback\u001B[38;5;241m=\u001B[39mcallback,\n\u001B[0;32m    700\u001B[0m                         \u001B[38;5;241m*\u001B[39m\u001B[38;5;241m*\u001B[39moptions)\n",
      "File \u001B[1;32m~\\anaconda3\\envs\\pinn_1-master\\lib\\site-packages\\scipy\\optimize\\_lbfgsb_py.py:305\u001B[0m, in \u001B[0;36m_minimize_lbfgsb\u001B[1;34m(fun, x0, args, jac, bounds, disp, maxcor, ftol, gtol, eps, maxfun, maxiter, iprint, callback, maxls, finite_diff_rel_step, **unknown_options)\u001B[0m\n\u001B[0;32m    302\u001B[0m     \u001B[38;5;28;01melse\u001B[39;00m:\n\u001B[0;32m    303\u001B[0m         iprint \u001B[38;5;241m=\u001B[39m disp\n\u001B[1;32m--> 305\u001B[0m sf \u001B[38;5;241m=\u001B[39m \u001B[43m_prepare_scalar_function\u001B[49m\u001B[43m(\u001B[49m\u001B[43mfun\u001B[49m\u001B[43m,\u001B[49m\u001B[43m \u001B[49m\u001B[43mx0\u001B[49m\u001B[43m,\u001B[49m\u001B[43m \u001B[49m\u001B[43mjac\u001B[49m\u001B[38;5;241;43m=\u001B[39;49m\u001B[43mjac\u001B[49m\u001B[43m,\u001B[49m\u001B[43m \u001B[49m\u001B[43margs\u001B[49m\u001B[38;5;241;43m=\u001B[39;49m\u001B[43margs\u001B[49m\u001B[43m,\u001B[49m\u001B[43m \u001B[49m\u001B[43mepsilon\u001B[49m\u001B[38;5;241;43m=\u001B[39;49m\u001B[43meps\u001B[49m\u001B[43m,\u001B[49m\n\u001B[0;32m    306\u001B[0m \u001B[43m                              \u001B[49m\u001B[43mbounds\u001B[49m\u001B[38;5;241;43m=\u001B[39;49m\u001B[43mnew_bounds\u001B[49m\u001B[43m,\u001B[49m\n\u001B[0;32m    307\u001B[0m \u001B[43m                              \u001B[49m\u001B[43mfinite_diff_rel_step\u001B[49m\u001B[38;5;241;43m=\u001B[39;49m\u001B[43mfinite_diff_rel_step\u001B[49m\u001B[43m)\u001B[49m\n\u001B[0;32m    309\u001B[0m func_and_grad \u001B[38;5;241m=\u001B[39m sf\u001B[38;5;241m.\u001B[39mfun_and_grad\n\u001B[0;32m    311\u001B[0m fortran_int \u001B[38;5;241m=\u001B[39m _lbfgsb\u001B[38;5;241m.\u001B[39mtypes\u001B[38;5;241m.\u001B[39mintvar\u001B[38;5;241m.\u001B[39mdtype\n",
      "File \u001B[1;32m~\\anaconda3\\envs\\pinn_1-master\\lib\\site-packages\\scipy\\optimize\\_optimize.py:332\u001B[0m, in \u001B[0;36m_prepare_scalar_function\u001B[1;34m(fun, x0, jac, args, bounds, epsilon, finite_diff_rel_step, hess)\u001B[0m\n\u001B[0;32m    328\u001B[0m     bounds \u001B[38;5;241m=\u001B[39m (\u001B[38;5;241m-\u001B[39mnp\u001B[38;5;241m.\u001B[39minf, np\u001B[38;5;241m.\u001B[39minf)\n\u001B[0;32m    330\u001B[0m \u001B[38;5;66;03m# ScalarFunction caches. Reuse of fun(x) during grad\u001B[39;00m\n\u001B[0;32m    331\u001B[0m \u001B[38;5;66;03m# calculation reduces overall function evaluations.\u001B[39;00m\n\u001B[1;32m--> 332\u001B[0m sf \u001B[38;5;241m=\u001B[39m \u001B[43mScalarFunction\u001B[49m\u001B[43m(\u001B[49m\u001B[43mfun\u001B[49m\u001B[43m,\u001B[49m\u001B[43m \u001B[49m\u001B[43mx0\u001B[49m\u001B[43m,\u001B[49m\u001B[43m \u001B[49m\u001B[43margs\u001B[49m\u001B[43m,\u001B[49m\u001B[43m \u001B[49m\u001B[43mgrad\u001B[49m\u001B[43m,\u001B[49m\u001B[43m \u001B[49m\u001B[43mhess\u001B[49m\u001B[43m,\u001B[49m\n\u001B[0;32m    333\u001B[0m \u001B[43m                    \u001B[49m\u001B[43mfinite_diff_rel_step\u001B[49m\u001B[43m,\u001B[49m\u001B[43m \u001B[49m\u001B[43mbounds\u001B[49m\u001B[43m,\u001B[49m\u001B[43m \u001B[49m\u001B[43mepsilon\u001B[49m\u001B[38;5;241;43m=\u001B[39;49m\u001B[43mepsilon\u001B[49m\u001B[43m)\u001B[49m\n\u001B[0;32m    335\u001B[0m \u001B[38;5;28;01mreturn\u001B[39;00m sf\n",
      "File \u001B[1;32m~\\anaconda3\\envs\\pinn_1-master\\lib\\site-packages\\scipy\\optimize\\_differentiable_functions.py:158\u001B[0m, in \u001B[0;36mScalarFunction.__init__\u001B[1;34m(self, fun, x0, args, grad, hess, finite_diff_rel_step, finite_diff_bounds, epsilon)\u001B[0m\n\u001B[0;32m    155\u001B[0m     \u001B[38;5;28mself\u001B[39m\u001B[38;5;241m.\u001B[39mf \u001B[38;5;241m=\u001B[39m fun_wrapped(\u001B[38;5;28mself\u001B[39m\u001B[38;5;241m.\u001B[39mx)\n\u001B[0;32m    157\u001B[0m \u001B[38;5;28mself\u001B[39m\u001B[38;5;241m.\u001B[39m_update_fun_impl \u001B[38;5;241m=\u001B[39m update_fun\n\u001B[1;32m--> 158\u001B[0m \u001B[38;5;28;43mself\u001B[39;49m\u001B[38;5;241;43m.\u001B[39;49m\u001B[43m_update_fun\u001B[49m\u001B[43m(\u001B[49m\u001B[43m)\u001B[49m\n\u001B[0;32m    160\u001B[0m \u001B[38;5;66;03m# Gradient evaluation\u001B[39;00m\n\u001B[0;32m    161\u001B[0m \u001B[38;5;28;01mif\u001B[39;00m callable(grad):\n",
      "File \u001B[1;32m~\\anaconda3\\envs\\pinn_1-master\\lib\\site-packages\\scipy\\optimize\\_differentiable_functions.py:251\u001B[0m, in \u001B[0;36mScalarFunction._update_fun\u001B[1;34m(self)\u001B[0m\n\u001B[0;32m    249\u001B[0m \u001B[38;5;28;01mdef\u001B[39;00m \u001B[38;5;21m_update_fun\u001B[39m(\u001B[38;5;28mself\u001B[39m):\n\u001B[0;32m    250\u001B[0m     \u001B[38;5;28;01mif\u001B[39;00m \u001B[38;5;129;01mnot\u001B[39;00m \u001B[38;5;28mself\u001B[39m\u001B[38;5;241m.\u001B[39mf_updated:\n\u001B[1;32m--> 251\u001B[0m         \u001B[38;5;28;43mself\u001B[39;49m\u001B[38;5;241;43m.\u001B[39;49m\u001B[43m_update_fun_impl\u001B[49m\u001B[43m(\u001B[49m\u001B[43m)\u001B[49m\n\u001B[0;32m    252\u001B[0m         \u001B[38;5;28mself\u001B[39m\u001B[38;5;241m.\u001B[39mf_updated \u001B[38;5;241m=\u001B[39m \u001B[38;5;28;01mTrue\u001B[39;00m\n",
      "File \u001B[1;32m~\\anaconda3\\envs\\pinn_1-master\\lib\\site-packages\\scipy\\optimize\\_differentiable_functions.py:155\u001B[0m, in \u001B[0;36mScalarFunction.__init__.<locals>.update_fun\u001B[1;34m()\u001B[0m\n\u001B[0;32m    154\u001B[0m \u001B[38;5;28;01mdef\u001B[39;00m \u001B[38;5;21mupdate_fun\u001B[39m():\n\u001B[1;32m--> 155\u001B[0m     \u001B[38;5;28mself\u001B[39m\u001B[38;5;241m.\u001B[39mf \u001B[38;5;241m=\u001B[39m \u001B[43mfun_wrapped\u001B[49m\u001B[43m(\u001B[49m\u001B[38;5;28;43mself\u001B[39;49m\u001B[38;5;241;43m.\u001B[39;49m\u001B[43mx\u001B[49m\u001B[43m)\u001B[49m\n",
      "File \u001B[1;32m~\\anaconda3\\envs\\pinn_1-master\\lib\\site-packages\\scipy\\optimize\\_differentiable_functions.py:137\u001B[0m, in \u001B[0;36mScalarFunction.__init__.<locals>.fun_wrapped\u001B[1;34m(x)\u001B[0m\n\u001B[0;32m    133\u001B[0m \u001B[38;5;28mself\u001B[39m\u001B[38;5;241m.\u001B[39mnfev \u001B[38;5;241m+\u001B[39m\u001B[38;5;241m=\u001B[39m \u001B[38;5;241m1\u001B[39m\n\u001B[0;32m    134\u001B[0m \u001B[38;5;66;03m# Send a copy because the user may overwrite it.\u001B[39;00m\n\u001B[0;32m    135\u001B[0m \u001B[38;5;66;03m# Overwriting results in undefined behaviour because\u001B[39;00m\n\u001B[0;32m    136\u001B[0m \u001B[38;5;66;03m# fun(self.x) will change self.x, with the two no longer linked.\u001B[39;00m\n\u001B[1;32m--> 137\u001B[0m fx \u001B[38;5;241m=\u001B[39m \u001B[43mfun\u001B[49m\u001B[43m(\u001B[49m\u001B[43mnp\u001B[49m\u001B[38;5;241;43m.\u001B[39;49m\u001B[43mcopy\u001B[49m\u001B[43m(\u001B[49m\u001B[43mx\u001B[49m\u001B[43m)\u001B[49m\u001B[43m,\u001B[49m\u001B[43m \u001B[49m\u001B[38;5;241;43m*\u001B[39;49m\u001B[43margs\u001B[49m\u001B[43m)\u001B[49m\n\u001B[0;32m    138\u001B[0m \u001B[38;5;66;03m# Make sure the function returns a true scalar\u001B[39;00m\n\u001B[0;32m    139\u001B[0m \u001B[38;5;28;01mif\u001B[39;00m \u001B[38;5;129;01mnot\u001B[39;00m np\u001B[38;5;241m.\u001B[39misscalar(fx):\n",
      "File \u001B[1;32m~\\anaconda3\\envs\\pinn_1-master\\lib\\site-packages\\scipy\\optimize\\_optimize.py:76\u001B[0m, in \u001B[0;36mMemoizeJac.__call__\u001B[1;34m(self, x, *args)\u001B[0m\n\u001B[0;32m     74\u001B[0m \u001B[38;5;28;01mdef\u001B[39;00m \u001B[38;5;21m__call__\u001B[39m(\u001B[38;5;28mself\u001B[39m, x, \u001B[38;5;241m*\u001B[39margs):\n\u001B[0;32m     75\u001B[0m     \u001B[38;5;124;03m\"\"\" returns the function value \"\"\"\u001B[39;00m\n\u001B[1;32m---> 76\u001B[0m     \u001B[38;5;28;43mself\u001B[39;49m\u001B[38;5;241;43m.\u001B[39;49m\u001B[43m_compute_if_needed\u001B[49m\u001B[43m(\u001B[49m\u001B[43mx\u001B[49m\u001B[43m,\u001B[49m\u001B[43m \u001B[49m\u001B[38;5;241;43m*\u001B[39;49m\u001B[43margs\u001B[49m\u001B[43m)\u001B[49m\n\u001B[0;32m     77\u001B[0m     \u001B[38;5;28;01mreturn\u001B[39;00m \u001B[38;5;28mself\u001B[39m\u001B[38;5;241m.\u001B[39m_value\n",
      "File \u001B[1;32m~\\anaconda3\\envs\\pinn_1-master\\lib\\site-packages\\scipy\\optimize\\_optimize.py:70\u001B[0m, in \u001B[0;36mMemoizeJac._compute_if_needed\u001B[1;34m(self, x, *args)\u001B[0m\n\u001B[0;32m     68\u001B[0m \u001B[38;5;28;01mif\u001B[39;00m \u001B[38;5;129;01mnot\u001B[39;00m np\u001B[38;5;241m.\u001B[39mall(x \u001B[38;5;241m==\u001B[39m \u001B[38;5;28mself\u001B[39m\u001B[38;5;241m.\u001B[39mx) \u001B[38;5;129;01mor\u001B[39;00m \u001B[38;5;28mself\u001B[39m\u001B[38;5;241m.\u001B[39m_value \u001B[38;5;129;01mis\u001B[39;00m \u001B[38;5;28;01mNone\u001B[39;00m \u001B[38;5;129;01mor\u001B[39;00m \u001B[38;5;28mself\u001B[39m\u001B[38;5;241m.\u001B[39mjac \u001B[38;5;129;01mis\u001B[39;00m \u001B[38;5;28;01mNone\u001B[39;00m:\n\u001B[0;32m     69\u001B[0m     \u001B[38;5;28mself\u001B[39m\u001B[38;5;241m.\u001B[39mx \u001B[38;5;241m=\u001B[39m np\u001B[38;5;241m.\u001B[39masarray(x)\u001B[38;5;241m.\u001B[39mcopy()\n\u001B[1;32m---> 70\u001B[0m     fg \u001B[38;5;241m=\u001B[39m \u001B[38;5;28;43mself\u001B[39;49m\u001B[38;5;241;43m.\u001B[39;49m\u001B[43mfun\u001B[49m\u001B[43m(\u001B[49m\u001B[43mx\u001B[49m\u001B[43m,\u001B[49m\u001B[43m \u001B[49m\u001B[38;5;241;43m*\u001B[39;49m\u001B[43margs\u001B[49m\u001B[43m)\u001B[49m\n\u001B[0;32m     71\u001B[0m     \u001B[38;5;28mself\u001B[39m\u001B[38;5;241m.\u001B[39mjac \u001B[38;5;241m=\u001B[39m fg[\u001B[38;5;241m1\u001B[39m]\n\u001B[0;32m     72\u001B[0m     \u001B[38;5;28mself\u001B[39m\u001B[38;5;241m.\u001B[39m_value \u001B[38;5;241m=\u001B[39m fg[\u001B[38;5;241m0\u001B[39m]\n",
      "Cell \u001B[1;32mIn[6], line 164\u001B[0m, in \u001B[0;36mPINNSolver.solve_with_ScipyOptimizer.<locals>.get_loss_and_grad\u001B[1;34m(w)\u001B[0m\n\u001B[0;32m    162\u001B[0m set_weight_tensor(w)\n\u001B[0;32m    163\u001B[0m \u001B[38;5;66;03m# Determine value of \\phi and gradient w.r.t. \\theta at w\u001B[39;00m\n\u001B[1;32m--> 164\u001B[0m loss, grad \u001B[38;5;241m=\u001B[39m \u001B[38;5;28;43mself\u001B[39;49m\u001B[38;5;241;43m.\u001B[39;49m\u001B[43mget_grad\u001B[49m\u001B[43m(\u001B[49m\u001B[43m)\u001B[49m\n\u001B[0;32m    166\u001B[0m \u001B[38;5;66;03m# Store current loss for callback function\u001B[39;00m\n\u001B[0;32m    167\u001B[0m loss \u001B[38;5;241m=\u001B[39m loss\u001B[38;5;241m.\u001B[39mnumpy()\u001B[38;5;241m.\u001B[39mastype(np\u001B[38;5;241m.\u001B[39mfloat64)\n",
      "Cell \u001B[1;32mIn[6], line 77\u001B[0m, in \u001B[0;36mPINNSolver.get_grad\u001B[1;34m(self)\u001B[0m\n\u001B[0;32m     73\u001B[0m \u001B[38;5;28;01mwith\u001B[39;00m tf\u001B[38;5;241m.\u001B[39mGradientTape(persistent\u001B[38;5;241m=\u001B[39m\u001B[38;5;28;01mTrue\u001B[39;00m) \u001B[38;5;28;01mas\u001B[39;00m tape:\n\u001B[0;32m     74\u001B[0m     \u001B[38;5;66;03m# This tape is for derivatives with\u001B[39;00m\n\u001B[0;32m     75\u001B[0m     \u001B[38;5;66;03m# respect to trainable variables\u001B[39;00m\n\u001B[0;32m     76\u001B[0m     tape\u001B[38;5;241m.\u001B[39mwatch(\u001B[38;5;28mself\u001B[39m\u001B[38;5;241m.\u001B[39mmodel\u001B[38;5;241m.\u001B[39mtrainable_variables)\n\u001B[1;32m---> 77\u001B[0m     loss \u001B[38;5;241m=\u001B[39m \u001B[38;5;28;43mself\u001B[39;49m\u001B[38;5;241;43m.\u001B[39;49m\u001B[43mloss_fn\u001B[49m\u001B[43m(\u001B[49m\u001B[43m)\u001B[49m\n\u001B[0;32m     79\u001B[0m g \u001B[38;5;241m=\u001B[39m tape\u001B[38;5;241m.\u001B[39mgradient(loss, \u001B[38;5;28mself\u001B[39m\u001B[38;5;241m.\u001B[39mmodel\u001B[38;5;241m.\u001B[39mtrainable_variables)\n\u001B[0;32m     80\u001B[0m \u001B[38;5;28;01mdel\u001B[39;00m tape\n",
      "Cell \u001B[1;32mIn[6], line 49\u001B[0m, in \u001B[0;36mPINNSolver.loss_fn\u001B[1;34m(self)\u001B[0m\n\u001B[0;32m     46\u001B[0m t_0 \u001B[38;5;241m=\u001B[39m tf\u001B[38;5;241m.\u001B[39mzeros((\u001B[38;5;241m1\u001B[39m,\u001B[38;5;241m1\u001B[39m))\n\u001B[0;32m     48\u001B[0m \u001B[38;5;66;03m# Compute phi^r\u001B[39;00m\n\u001B[1;32m---> 49\u001B[0m r \u001B[38;5;241m=\u001B[39m \u001B[38;5;28;43mself\u001B[39;49m\u001B[38;5;241;43m.\u001B[39;49m\u001B[43mget_r\u001B[49m\u001B[43m(\u001B[49m\u001B[43m)\u001B[49m\n\u001B[0;32m     50\u001B[0m phi_r \u001B[38;5;241m=\u001B[39m tf\u001B[38;5;241m.\u001B[39mreduce_mean(tf\u001B[38;5;241m.\u001B[39msquare(r))\n\u001B[0;32m     52\u001B[0m \u001B[38;5;66;03m# Initialize loss\u001B[39;00m\n",
      "Cell \u001B[1;32mIn[6], line 33\u001B[0m, in \u001B[0;36mPINNSolver.get_r\u001B[1;34m(self)\u001B[0m\n\u001B[0;32m     31\u001B[0m     yl \u001B[38;5;241m=\u001B[39m R\u001B[38;5;241m*\u001B[39mtf\u001B[38;5;241m.\u001B[39msin(theta_l)\u001B[38;5;241m+\u001B[39mb\n\u001B[0;32m     32\u001B[0m     yr \u001B[38;5;241m=\u001B[39m R\u001B[38;5;241m*\u001B[39mtf\u001B[38;5;241m.\u001B[39msin(theta_r)\u001B[38;5;241m+\u001B[39mb\n\u001B[1;32m---> 33\u001B[0m     area \u001B[38;5;241m=\u001B[39m \u001B[43mcal_area_quad\u001B[49m\u001B[43m(\u001B[49m\u001B[43ma\u001B[49m\u001B[43m,\u001B[49m\u001B[43mb\u001B[49m\u001B[43m,\u001B[49m\u001B[43md\u001B[49m\u001B[43m,\u001B[49m\u001B[43mtheta_l\u001B[49m\u001B[43m,\u001B[49m\u001B[43mtheta_r\u001B[49m\u001B[43m,\u001B[49m\u001B[43mR\u001B[49m\u001B[43m)\u001B[49m\n\u001B[0;32m     35\u001B[0m yl_t \u001B[38;5;241m=\u001B[39m tape\u001B[38;5;241m.\u001B[39mgradient(yl, t)\n\u001B[0;32m     36\u001B[0m yr_t \u001B[38;5;241m=\u001B[39m tape\u001B[38;5;241m.\u001B[39mgradient(yr, t)\n",
      "Cell \u001B[1;32mIn[2], line 10\u001B[0m, in \u001B[0;36mcal_area_quad\u001B[1;34m(center_a, center_b, d, theta_l, theta_r, R)\u001B[0m\n\u001B[0;32m      7\u001B[0m \u001B[38;5;28;01mdef\u001B[39;00m \u001B[38;5;21mf\u001B[39m(x):\n\u001B[0;32m      8\u001B[0m     \u001B[38;5;28;01mreturn\u001B[39;00m np\u001B[38;5;241m.\u001B[39msqrt(\u001B[38;5;28mpow\u001B[39m(r,\u001B[38;5;241m2\u001B[39m)\u001B[38;5;241m-\u001B[39m\u001B[38;5;28mpow\u001B[39m(x\u001B[38;5;241m-\u001B[39ma,\u001B[38;5;241m2\u001B[39m))\u001B[38;5;241m+\u001B[39mb\n\u001B[1;32m---> 10\u001B[0m area \u001B[38;5;241m=\u001B[39m \u001B[43msp\u001B[49m\u001B[38;5;241;43m.\u001B[39;49m\u001B[43mintegrate\u001B[49m\u001B[38;5;241;43m.\u001B[39;49m\u001B[43mquad\u001B[49m\u001B[43m(\u001B[49m\u001B[43mf\u001B[49m\u001B[43m,\u001B[49m\u001B[43m \u001B[49m\u001B[38;5;241;43m0\u001B[39;49m\u001B[43m,\u001B[49m\u001B[43m \u001B[49m\u001B[43md\u001B[49m\u001B[43m)\u001B[49m\n\u001B[0;32m     12\u001B[0m \u001B[38;5;66;03m# (x-a)^2 + (y-b)^2 = r^2\u001B[39;00m\n\u001B[0;32m     14\u001B[0m \u001B[38;5;28;01mreturn\u001B[39;00m area\n",
      "File \u001B[1;32m~\\anaconda3\\envs\\pinn_1-master\\lib\\site-packages\\scipy\\integrate\\_quadpack_py.py:463\u001B[0m, in \u001B[0;36mquad\u001B[1;34m(func, a, b, args, full_output, epsabs, epsrel, limit, points, weight, wvar, wopts, maxp1, limlst, complex_func)\u001B[0m\n\u001B[0;32m    460\u001B[0m     \u001B[38;5;28;01mreturn\u001B[39;00m retval\n\u001B[0;32m    462\u001B[0m \u001B[38;5;28;01mif\u001B[39;00m weight \u001B[38;5;129;01mis\u001B[39;00m \u001B[38;5;28;01mNone\u001B[39;00m:\n\u001B[1;32m--> 463\u001B[0m     retval \u001B[38;5;241m=\u001B[39m \u001B[43m_quad\u001B[49m\u001B[43m(\u001B[49m\u001B[43mfunc\u001B[49m\u001B[43m,\u001B[49m\u001B[43m \u001B[49m\u001B[43ma\u001B[49m\u001B[43m,\u001B[49m\u001B[43m \u001B[49m\u001B[43mb\u001B[49m\u001B[43m,\u001B[49m\u001B[43m \u001B[49m\u001B[43margs\u001B[49m\u001B[43m,\u001B[49m\u001B[43m \u001B[49m\u001B[43mfull_output\u001B[49m\u001B[43m,\u001B[49m\u001B[43m \u001B[49m\u001B[43mepsabs\u001B[49m\u001B[43m,\u001B[49m\u001B[43m \u001B[49m\u001B[43mepsrel\u001B[49m\u001B[43m,\u001B[49m\u001B[43m \u001B[49m\u001B[43mlimit\u001B[49m\u001B[43m,\u001B[49m\n\u001B[0;32m    464\u001B[0m \u001B[43m                   \u001B[49m\u001B[43mpoints\u001B[49m\u001B[43m)\u001B[49m\n\u001B[0;32m    465\u001B[0m \u001B[38;5;28;01melse\u001B[39;00m:\n\u001B[0;32m    466\u001B[0m     \u001B[38;5;28;01mif\u001B[39;00m points \u001B[38;5;129;01mis\u001B[39;00m \u001B[38;5;129;01mnot\u001B[39;00m \u001B[38;5;28;01mNone\u001B[39;00m:\n",
      "File \u001B[1;32m~\\anaconda3\\envs\\pinn_1-master\\lib\\site-packages\\scipy\\integrate\\_quadpack_py.py:575\u001B[0m, in \u001B[0;36m_quad\u001B[1;34m(func, a, b, args, full_output, epsabs, epsrel, limit, points)\u001B[0m\n\u001B[0;32m    573\u001B[0m \u001B[38;5;28;01mif\u001B[39;00m points \u001B[38;5;129;01mis\u001B[39;00m \u001B[38;5;28;01mNone\u001B[39;00m:\n\u001B[0;32m    574\u001B[0m     \u001B[38;5;28;01mif\u001B[39;00m infbounds \u001B[38;5;241m==\u001B[39m \u001B[38;5;241m0\u001B[39m:\n\u001B[1;32m--> 575\u001B[0m         \u001B[38;5;28;01mreturn\u001B[39;00m \u001B[43m_quadpack\u001B[49m\u001B[38;5;241;43m.\u001B[39;49m\u001B[43m_qagse\u001B[49m\u001B[43m(\u001B[49m\u001B[43mfunc\u001B[49m\u001B[43m,\u001B[49m\u001B[43ma\u001B[49m\u001B[43m,\u001B[49m\u001B[43mb\u001B[49m\u001B[43m,\u001B[49m\u001B[43margs\u001B[49m\u001B[43m,\u001B[49m\u001B[43mfull_output\u001B[49m\u001B[43m,\u001B[49m\u001B[43mepsabs\u001B[49m\u001B[43m,\u001B[49m\u001B[43mepsrel\u001B[49m\u001B[43m,\u001B[49m\u001B[43mlimit\u001B[49m\u001B[43m)\u001B[49m\n\u001B[0;32m    576\u001B[0m     \u001B[38;5;28;01melse\u001B[39;00m:\n\u001B[0;32m    577\u001B[0m         \u001B[38;5;28;01mreturn\u001B[39;00m _quadpack\u001B[38;5;241m.\u001B[39m_qagie(func,bound,infbounds,args,full_output,epsabs,epsrel,limit)\n",
      "File \u001B[1;32m~\\anaconda3\\envs\\pinn_1-master\\lib\\site-packages\\tensorflow\\python\\framework\\ops.py:1062\u001B[0m, in \u001B[0;36m_EagerTensorBase.__float__\u001B[1;34m(self)\u001B[0m\n\u001B[0;32m   1061\u001B[0m \u001B[38;5;28;01mdef\u001B[39;00m \u001B[38;5;21m__float__\u001B[39m(\u001B[38;5;28mself\u001B[39m):\n\u001B[1;32m-> 1062\u001B[0m   \u001B[38;5;28;01mreturn\u001B[39;00m \u001B[38;5;28;43mfloat\u001B[39;49m\u001B[43m(\u001B[49m\u001B[38;5;28;43mself\u001B[39;49m\u001B[38;5;241;43m.\u001B[39;49m\u001B[43m_numpy\u001B[49m\u001B[43m(\u001B[49m\u001B[43m)\u001B[49m\u001B[43m)\u001B[49m\n",
      "\u001B[1;31mTypeError\u001B[0m: only size-1 arrays can be converted to Python scalars"
     ]
    }
   ],
   "source": [
    "# Initialize model\n",
    "from time import time\n",
    "\n",
    "model = PINN_NeuralNet(t_data)\n",
    "model.build(input_shape=(None,1))\n",
    "\n",
    "# Initilize PINN solver\n",
    "solver = PINNSolver(model,t_data,initial_data)\n",
    "\n",
    "# Decide which optimizer should be used\n",
    "#mode = 'TFoptimizer'\n",
    "mode = 'ScipyOptimizer'\n",
    "\n",
    "# Start timer\n",
    "t0 = time()\n",
    "\n",
    "if mode == 'TFoptimizer':\n",
    "    # Choose optimizer\n",
    "    lr = tf.keras.optimizers.schedules.PiecewiseConstantDecay([1000,3000],[1e-2,1e-3,5e-4])\n",
    "    optim = tf.keras.optimizers.Adam(learning_rate=lr)\n",
    "    solver.solve_with_TFoptimizer(optim, t_data, N=4001)\n",
    "\n",
    "elif mode == 'ScipyOptimizer':\n",
    "    solver.solve_with_ScipyOptimizer(\n",
    "                            method='L-BFGS-B',\n",
    "                            options={'maxiter': 50000,\n",
    "                                     'maxfun': 50000,\n",
    "                                     'maxcor': 50,\n",
    "                                     'maxls': 50,\n",
    "                                     'ftol': 1.0*np.finfo(float).eps})\n",
    "\n",
    "# Print computation time\n",
    "print('\\nComputation time: {} seconds'.format(time()-t0))"
   ],
   "metadata": {
    "collapsed": false,
    "ExecuteTime": {
     "end_time": "2023-05-24T15:43:33.409261Z",
     "start_time": "2023-05-24T15:43:30.441054300Z"
    }
   }
  },
  {
   "cell_type": "code",
   "execution_count": 28,
   "outputs": [
    {
     "data": {
      "text/plain": "<Figure size 700x500 with 1 Axes>",
      "image/png": "[encoded data removed]"
     },
     "metadata": {},
     "output_type": "display_data"
    }
   ],
   "source": [
    "#solver.plot_solution();\n",
    "solver.plot_loss_history();"
   ],
   "metadata": {
    "collapsed": false,
    "ExecuteTime": {
     "end_time": "2023-05-24T07:39:14.104153700Z",
     "start_time": "2023-05-24T07:39:12.956302200Z"
    }
   }
  },
  {
   "cell_type": "code",
   "execution_count": 29,
   "outputs": [],
   "source": [
    "test_data=tf.linspace(0.0, 0.0280, 281)\n",
    "test_data = tf.reshape(test_data,shape=(-1,1))"
   ],
   "metadata": {
    "collapsed": false,
    "ExecuteTime": {
     "end_time": "2023-05-24T07:42:16.910016500Z",
     "start_time": "2023-05-24T07:42:16.797278300Z"
    }
   }
  },
  {
   "cell_type": "code",
   "execution_count": 30,
   "outputs": [
    {
     "name": "stdout",
     "output_type": "stream",
     "text": [
      "tf.Tensor(\n",
      "[[-5.72143839e-05 -6.87770677e-04  9.04292260e-04  1.50098398e+00\n",
      "   1.08740861e+00]\n",
      " [-5.64130009e-05 -6.73357946e-04  8.89772389e-04  1.50100246e+00\n",
      "   1.08739229e+00]\n",
      " [-5.56133877e-05 -6.58945610e-04  8.75252776e-04  1.50102095e+00\n",
      "   1.08737597e+00]\n",
      " ...\n",
      " [ 9.70875143e-05  3.30285513e-03 -3.12091575e-03  1.50609461e+00\n",
      "   1.08285054e+00]\n",
      " [ 9.73934083e-05  3.31714810e-03 -3.13534896e-03  1.50611289e+00\n",
      "   1.08283408e+00]\n",
      " [ 9.76975106e-05  3.33144060e-03 -3.14978181e-03  1.50613117e+00\n",
      "   1.08281761e+00]], shape=(281, 5), dtype=float64)\n"
     ]
    }
   ],
   "source": [
    "print(model.call(test_data))"
   ],
   "metadata": {
    "collapsed": false,
    "ExecuteTime": {
     "end_time": "2023-05-24T07:42:17.999149Z",
     "start_time": "2023-05-24T07:42:17.838994700Z"
    }
   }
  },
  {
   "cell_type": "code",
   "execution_count": null,
   "outputs": [],
   "source": [],
   "metadata": {
    "collapsed": false
   }
  }
 ],
 "metadata": {
  "kernelspec": {
   "display_name": "Python 3",
   "language": "python",
   "name": "python3"
  },
  "language_info": {
   "codemirror_mode": {
    "name": "ipython",
    "version": 2
   },
   "file_extension": ".py",
   "mimetype": "text/x-python",
   "name": "python",
   "nbconvert_exporter": "python",
   "pygments_lexer": "ipython2",
   "version": "2.7.6"
  }
 },
 "nbformat": 4,
 "nbformat_minor": 0
}
